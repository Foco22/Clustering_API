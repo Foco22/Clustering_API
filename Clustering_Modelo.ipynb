{
  "nbformat": 4,
  "nbformat_minor": 0,
  "metadata": {
    "colab": {
      "name": "Te damos la bienvenida a Colaboratory",
      "provenance": [],
      "collapsed_sections": [],
      "toc_visible": true,
      "include_colab_link": true
    },
    "kernelspec": {
      "display_name": "Python 3",
      "name": "python3"
    }
  },
  "cells": [
    {
      "cell_type": "markdown",
      "metadata": {
        "id": "view-in-github",
        "colab_type": "text"
      },
      "source": [
        "<a href=\"https://colab.research.google.com/github/Foco22/Clustering_API/blob/main/Clustering_Modelo.ipynb\" target=\"_parent\"><img src=\"https://colab.research.google.com/assets/colab-badge.svg\" alt=\"Open In Colab\"/></a>"
      ]
    },
    {
      "cell_type": "code",
      "metadata": {
        "id": "6JXDeFCfAYPc"
      },
      "source": [
        "import pandas as pd\r\n",
        "import numpy as np\r\n",
        "import matplotlib.pyplot as plt\r\n",
        "import seaborn as sns"
      ],
      "execution_count": 1,
      "outputs": []
    },
    {
      "cell_type": "markdown",
      "metadata": {
        "id": "dJmqVo33Acww"
      },
      "source": [
        "#Carga de Datos"
      ]
    },
    {
      "cell_type": "code",
      "metadata": {
        "id": "Aqq41Y-0Am2h",
        "outputId": "af3226cb-9eaa-4ccf-f994-8b37927c6eef",
        "colab": {
          "resources": {
            "http://localhost:8080/nbextensions/google.colab/files.js": {
              "data": "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",
              "ok": true,
              "headers": [
                [
                  "content-type",
                  "application/javascript"
                ]
              ],
              "status": 200,
              "status_text": ""
            }
          },
          "base_uri": "https://localhost:8080/",
          "height": 89
        }
      },
      "source": [
        "from google.colab import files\n",
        "\n",
        "uploaded = files.upload()\n",
        "\n",
        "for fn in uploaded.keys():\n",
        "  print('User uploaded file \"{name}\" with length {length} bytes'.format(\n",
        "      name=fn, length=len(uploaded[fn])))"
      ],
      "execution_count": 2,
      "outputs": [
        {
          "output_type": "display_data",
          "data": {
            "text/html": [
              "\n",
              "     <input type=\"file\" id=\"files-177e6982-eae9-44d9-a05f-b81f3e2329ca\" name=\"files[]\" multiple disabled\n",
              "        style=\"border:none\" />\n",
              "     <output id=\"result-177e6982-eae9-44d9-a05f-b81f3e2329ca\">\n",
              "      Upload widget is only available when the cell has been executed in the\n",
              "      current browser session. Please rerun this cell to enable.\n",
              "      </output>\n",
              "      <script src=\"/nbextensions/google.colab/files.js\"></script> "
            ],
            "text/plain": [
              "<IPython.core.display.HTML object>"
            ]
          },
          "metadata": {
            "tags": []
          }
        },
        {
          "output_type": "stream",
          "text": [
            "Saving Users1.csv to Users1.csv\n",
            "User uploaded file \"Users1.csv\" with length 1879259 bytes\n"
          ],
          "name": "stdout"
        }
      ]
    },
    {
      "cell_type": "code",
      "metadata": {
        "id": "ICPIFVoeA0A3",
        "outputId": "de6c1985-3214-413c-ae38-a40b6076940e",
        "colab": {
          "base_uri": "https://localhost:8080/",
          "height": 255
        }
      },
      "source": [
        "df = pd.read_csv('Users1.csv', encoding= 'unicode_escape', sep = ';')\r\n",
        "df.head()"
      ],
      "execution_count": 135,
      "outputs": [
        {
          "output_type": "execute_result",
          "data": {
            "text/html": [
              "<div>\n",
              "<style scoped>\n",
              "    .dataframe tbody tr th:only-of-type {\n",
              "        vertical-align: middle;\n",
              "    }\n",
              "\n",
              "    .dataframe tbody tr th {\n",
              "        vertical-align: top;\n",
              "    }\n",
              "\n",
              "    .dataframe thead th {\n",
              "        text-align: right;\n",
              "    }\n",
              "</style>\n",
              "<table border=\"1\" class=\"dataframe\">\n",
              "  <thead>\n",
              "    <tr style=\"text-align: right;\">\n",
              "      <th></th>\n",
              "      <th>State</th>\n",
              "      <th>Profession</th>\n",
              "      <th>Profesion Key</th>\n",
              "      <th>Agree terms conditions</th>\n",
              "      <th>Card Mastercard</th>\n",
              "      <th>Source</th>\n",
              "      <th>Edad</th>\n",
              "      <th>Region Pais</th>\n",
              "    </tr>\n",
              "  </thead>\n",
              "  <tbody>\n",
              "    <tr>\n",
              "      <th>0</th>\n",
              "      <td>4</td>\n",
              "      <td>Horticultor</td>\n",
              "      <td>1</td>\n",
              "      <td>VERDADERO</td>\n",
              "      <td>FALSO</td>\n",
              "      <td>NaN</td>\n",
              "      <td>26</td>\n",
              "      <td>Libertador General Bernardo OHiggins</td>\n",
              "    </tr>\n",
              "    <tr>\n",
              "      <th>1</th>\n",
              "      <td>4</td>\n",
              "      <td>estudiante</td>\n",
              "      <td>2</td>\n",
              "      <td>VERDADERO</td>\n",
              "      <td>VERDADERO</td>\n",
              "      <td>NaN</td>\n",
              "      <td>18</td>\n",
              "      <td>Región Metropolitana de Santiago</td>\n",
              "    </tr>\n",
              "    <tr>\n",
              "      <th>2</th>\n",
              "      <td>4</td>\n",
              "      <td>SIN ACTIVIDAD</td>\n",
              "      <td>3</td>\n",
              "      <td>VERDADERO</td>\n",
              "      <td>FALSO</td>\n",
              "      <td>NaN</td>\n",
              "      <td>30</td>\n",
              "      <td>Región Metropolitana de Santiago</td>\n",
              "    </tr>\n",
              "    <tr>\n",
              "      <th>3</th>\n",
              "      <td>4</td>\n",
              "      <td>estudiante</td>\n",
              "      <td>2</td>\n",
              "      <td>VERDADERO</td>\n",
              "      <td>FALSO</td>\n",
              "      <td>NaN</td>\n",
              "      <td>25</td>\n",
              "      <td>Atacama</td>\n",
              "    </tr>\n",
              "    <tr>\n",
              "      <th>4</th>\n",
              "      <td>4</td>\n",
              "      <td>empleado</td>\n",
              "      <td>4</td>\n",
              "      <td>VERDADERO</td>\n",
              "      <td>FALSO</td>\n",
              "      <td>NaN</td>\n",
              "      <td>57</td>\n",
              "      <td>La Araucanía</td>\n",
              "    </tr>\n",
              "  </tbody>\n",
              "</table>\n",
              "</div>"
            ],
            "text/plain": [
              "   State     Profession  ...  Edad                           Region Pais\n",
              "0      4    Horticultor  ...    26  Libertador General Bernardo OHiggins\n",
              "1      4     estudiante  ...    18      Región Metropolitana de Santiago\n",
              "2      4  SIN ACTIVIDAD  ...    30      Región Metropolitana de Santiago\n",
              "3      4     estudiante  ...    25                               Atacama\n",
              "4      4       empleado  ...    57                          La Araucanía\n",
              "\n",
              "[5 rows x 8 columns]"
            ]
          },
          "metadata": {
            "tags": []
          },
          "execution_count": 135
        }
      ]
    },
    {
      "cell_type": "code",
      "metadata": {
        "id": "uYt_03eYA4WK",
        "outputId": "f851ed75-4522-4472-c3a8-29803069f798",
        "colab": {
          "base_uri": "https://localhost:8080/",
          "height": 297
        }
      },
      "source": [
        "df.describe()"
      ],
      "execution_count": 4,
      "outputs": [
        {
          "output_type": "execute_result",
          "data": {
            "text/html": [
              "<div>\n",
              "<style scoped>\n",
              "    .dataframe tbody tr th:only-of-type {\n",
              "        vertical-align: middle;\n",
              "    }\n",
              "\n",
              "    .dataframe tbody tr th {\n",
              "        vertical-align: top;\n",
              "    }\n",
              "\n",
              "    .dataframe thead th {\n",
              "        text-align: right;\n",
              "    }\n",
              "</style>\n",
              "<table border=\"1\" class=\"dataframe\">\n",
              "  <thead>\n",
              "    <tr style=\"text-align: right;\">\n",
              "      <th></th>\n",
              "      <th>State</th>\n",
              "      <th>Profesion Key</th>\n",
              "      <th>Edad</th>\n",
              "    </tr>\n",
              "  </thead>\n",
              "  <tbody>\n",
              "    <tr>\n",
              "      <th>count</th>\n",
              "      <td>28880.0</td>\n",
              "      <td>28880.000000</td>\n",
              "      <td>28880.000000</td>\n",
              "    </tr>\n",
              "    <tr>\n",
              "      <th>mean</th>\n",
              "      <td>4.0</td>\n",
              "      <td>562.830713</td>\n",
              "      <td>32.278670</td>\n",
              "    </tr>\n",
              "    <tr>\n",
              "      <th>std</th>\n",
              "      <td>0.0</td>\n",
              "      <td>1026.655293</td>\n",
              "      <td>11.893099</td>\n",
              "    </tr>\n",
              "    <tr>\n",
              "      <th>min</th>\n",
              "      <td>4.0</td>\n",
              "      <td>1.000000</td>\n",
              "      <td>18.000000</td>\n",
              "    </tr>\n",
              "    <tr>\n",
              "      <th>25%</th>\n",
              "      <td>4.0</td>\n",
              "      <td>8.000000</td>\n",
              "      <td>23.000000</td>\n",
              "    </tr>\n",
              "    <tr>\n",
              "      <th>50%</th>\n",
              "      <td>4.0</td>\n",
              "      <td>98.000000</td>\n",
              "      <td>29.000000</td>\n",
              "    </tr>\n",
              "    <tr>\n",
              "      <th>75%</th>\n",
              "      <td>4.0</td>\n",
              "      <td>463.000000</td>\n",
              "      <td>39.000000</td>\n",
              "    </tr>\n",
              "    <tr>\n",
              "      <th>max</th>\n",
              "      <td>4.0</td>\n",
              "      <td>4617.000000</td>\n",
              "      <td>120.000000</td>\n",
              "    </tr>\n",
              "  </tbody>\n",
              "</table>\n",
              "</div>"
            ],
            "text/plain": [
              "         State  Profesion Key          Edad\n",
              "count  28880.0   28880.000000  28880.000000\n",
              "mean       4.0     562.830713     32.278670\n",
              "std        0.0    1026.655293     11.893099\n",
              "min        4.0       1.000000     18.000000\n",
              "25%        4.0       8.000000     23.000000\n",
              "50%        4.0      98.000000     29.000000\n",
              "75%        4.0     463.000000     39.000000\n",
              "max        4.0    4617.000000    120.000000"
            ]
          },
          "metadata": {
            "tags": []
          },
          "execution_count": 4
        }
      ]
    },
    {
      "cell_type": "code",
      "metadata": {
        "id": "bY9Qr_K0A8Gc",
        "outputId": "4d411222-c432-4a9c-e185-eab1966e22bc",
        "colab": {
          "base_uri": "https://localhost:8080/"
        }
      },
      "source": [
        "df.isnull().sum()"
      ],
      "execution_count": 5,
      "outputs": [
        {
          "output_type": "execute_result",
          "data": {
            "text/plain": [
              "State                         0\n",
              "Profession                    0\n",
              "Profesion Key                 0\n",
              "Agree terms conditions        0\n",
              "Card Mastercard               0\n",
              "Source                    27042\n",
              "Edad                          0\n",
              "Region Pais                   0\n",
              "dtype: int64"
            ]
          },
          "metadata": {
            "tags": []
          },
          "execution_count": 5
        }
      ]
    },
    {
      "cell_type": "markdown",
      "metadata": {
        "id": "09FCAR3cBKlR"
      },
      "source": [
        "# Procesamiento de los datos"
      ]
    },
    {
      "cell_type": "code",
      "metadata": {
        "id": "_u_8hZ6kBPWO"
      },
      "source": [
        "df = df.drop(columns='Source')\r\n",
        "df = df.drop(columns='State')\r\n",
        "df = df.drop(columns='Profesion Key')"
      ],
      "execution_count": 136,
      "outputs": []
    },
    {
      "cell_type": "code",
      "metadata": {
        "id": "2yE9gn6fBkVa",
        "outputId": "c50f7458-2012-469e-b74d-37f18e0c771e",
        "colab": {
          "base_uri": "https://localhost:8080/",
          "height": 204
        }
      },
      "source": [
        "df.head()"
      ],
      "execution_count": 8,
      "outputs": [
        {
          "output_type": "execute_result",
          "data": {
            "text/html": [
              "<div>\n",
              "<style scoped>\n",
              "    .dataframe tbody tr th:only-of-type {\n",
              "        vertical-align: middle;\n",
              "    }\n",
              "\n",
              "    .dataframe tbody tr th {\n",
              "        vertical-align: top;\n",
              "    }\n",
              "\n",
              "    .dataframe thead th {\n",
              "        text-align: right;\n",
              "    }\n",
              "</style>\n",
              "<table border=\"1\" class=\"dataframe\">\n",
              "  <thead>\n",
              "    <tr style=\"text-align: right;\">\n",
              "      <th></th>\n",
              "      <th>Profession</th>\n",
              "      <th>Agree terms conditions</th>\n",
              "      <th>Card Mastercard</th>\n",
              "      <th>Edad</th>\n",
              "      <th>Region Pais</th>\n",
              "    </tr>\n",
              "  </thead>\n",
              "  <tbody>\n",
              "    <tr>\n",
              "      <th>0</th>\n",
              "      <td>Horticultor</td>\n",
              "      <td>VERDADERO</td>\n",
              "      <td>FALSO</td>\n",
              "      <td>26</td>\n",
              "      <td>Libertador General Bernardo OHiggins</td>\n",
              "    </tr>\n",
              "    <tr>\n",
              "      <th>1</th>\n",
              "      <td>estudiante</td>\n",
              "      <td>VERDADERO</td>\n",
              "      <td>VERDADERO</td>\n",
              "      <td>18</td>\n",
              "      <td>Región Metropolitana de Santiago</td>\n",
              "    </tr>\n",
              "    <tr>\n",
              "      <th>2</th>\n",
              "      <td>SIN ACTIVIDAD</td>\n",
              "      <td>VERDADERO</td>\n",
              "      <td>FALSO</td>\n",
              "      <td>30</td>\n",
              "      <td>Región Metropolitana de Santiago</td>\n",
              "    </tr>\n",
              "    <tr>\n",
              "      <th>3</th>\n",
              "      <td>estudiante</td>\n",
              "      <td>VERDADERO</td>\n",
              "      <td>FALSO</td>\n",
              "      <td>25</td>\n",
              "      <td>Atacama</td>\n",
              "    </tr>\n",
              "    <tr>\n",
              "      <th>4</th>\n",
              "      <td>empleado</td>\n",
              "      <td>VERDADERO</td>\n",
              "      <td>FALSO</td>\n",
              "      <td>57</td>\n",
              "      <td>La Araucanía</td>\n",
              "    </tr>\n",
              "  </tbody>\n",
              "</table>\n",
              "</div>"
            ],
            "text/plain": [
              "      Profession  ...                           Region Pais\n",
              "0    Horticultor  ...  Libertador General Bernardo OHiggins\n",
              "1     estudiante  ...      Región Metropolitana de Santiago\n",
              "2  SIN ACTIVIDAD  ...      Región Metropolitana de Santiago\n",
              "3     estudiante  ...                               Atacama\n",
              "4       empleado  ...                          La Araucanía\n",
              "\n",
              "[5 rows x 5 columns]"
            ]
          },
          "metadata": {
            "tags": []
          },
          "execution_count": 8
        }
      ]
    },
    {
      "cell_type": "code",
      "metadata": {
        "id": "6T9lzjmNBonP",
        "outputId": "1ebf741a-3347-46d0-8567-ecbacbea6234",
        "colab": {
          "base_uri": "https://localhost:8080/",
          "height": 464
        }
      },
      "source": [
        "df['Profession'] = df['Profession'].apply(lambda x: x.lower())\r\n",
        "df_profesion = df['Profession'].value_counts().reset_index().head(10)\r\n",
        "\r\n",
        "plt.figure(figsize = (6,6))\r\n",
        "sns.barplot(data = df_profesion, y ='index', x ='Profession', color = 'b')\r\n",
        "plt.title('Top 10 Principales Trabajos de las personas', fontsize = 16)\r\n",
        "sns.despine(left=True, bottom=True)\r\n",
        "plt.xlabel('Tipo de State')\r\n",
        "plt.ylabel('Cantidad')\r\n",
        "plt.xticks(rotation=90)"
      ],
      "execution_count": 137,
      "outputs": [
        {
          "output_type": "execute_result",
          "data": {
            "text/plain": [
              "(array([   0., 1000., 2000., 3000., 4000., 5000., 6000., 7000.]),\n",
              " <a list of 8 Text major ticklabel objects>)"
            ]
          },
          "metadata": {
            "tags": []
          },
          "execution_count": 137
        },
        {
          "output_type": "display_data",
          "data": {
            "image/png": "[encoded data removed]",
            "text/plain": [
              "<Figure size 432x432 with 1 Axes>"
            ]
          },
          "metadata": {
            "tags": []
          }
        }
      ]
    },
    {
      "cell_type": "code",
      "metadata": {
        "id": "YqLVcTbaCIzw"
      },
      "source": [
        "#grupo 1: Estudiantes\r\n",
        "\r\n",
        "estudiantes = np.unique(list(df[df['Profession'].str.match('^estu.*')== True]['Profession']))\r\n",
        "\r\n",
        "estudiante = ['madre soltera y estudiante']\r\n",
        "#Grupo 2: Asesora del Hogar\r\n",
        "\r\n",
        "dueña_casa = ['due?±a de casa' ,'ama de casa', 'due?±a casa', 'casa','nana de la casa', 'nana','nano','ama dd casa',\r\n",
        "             'duena se casa','duesa de casa','due?±o de ogar', 'due?±a de caaa','due?±a de cass','due?ëo de casa',\r\n",
        "             'ama de casa y trabajadora', 'due?±a de casa cuidando a mi beb?©', 'hogar', 'casa']\r\n",
        "\r\n",
        "#Grupo 3: Desempleo\r\n",
        "\r\n",
        "desempleo  = ['sin actividad', 'sin empleo', 'sin enpleo','sin ocupaci??n',\r\n",
        "       'sin ocupacion', 'sin ocupaciones', 'sin oficio', 'sin ofu',\r\n",
        "       'sin profecion', 'sin profesion', 'sin trabaj??', 'sin trabajo',\r\n",
        "       'sin trabajo actualmente', 'sin trabajo ayuden', 'sin vocacion',\r\n",
        "       'desempl', 'desempleada', 'desempleado', 'desempleo',\r\n",
        "       'desenpkeado', 'desenpleada', 'desenpleado','cesante']\r\n",
        "\r\n",
        "#Grupo 4: informacion erronea.\r\n",
        "\r\n",
        "sin_informacion = ['sin informaci??n','nada', 'nada','nada de momento', 'nada por el momento', 'nadaa'\r\n",
        "                  'no aplica', 'mm piping', '?±i?±os', 'dkdjjffn', 'uy curiosos', 'nnnnnnnnnnnnn' , 'trabajo']"
      ],
      "execution_count": 86,
      "outputs": []
    },
    {
      "cell_type": "code",
      "metadata": {
        "id": "_Hg7TF8aCNya",
        "outputId": "28a83e17-c50b-46c0-c630-69aed0849b83",
        "colab": {
          "base_uri": "https://localhost:8080/",
          "height": 204
        }
      },
      "source": [
        "def profesion_agrupacion(df):\r\n",
        "    df['Profesion_agrupacion'] = ''\r\n",
        "    \r\n",
        "    conteo= 0\r\n",
        "    for i in df['Profession']:\r\n",
        "        if i in estudiantes:\r\n",
        "            df.iloc[conteo,5] = 'Estudiante'\r\n",
        "        elif i in dueña_casa:\r\n",
        "            df.iloc[conteo,5] = 'Dueña de casa'\r\n",
        "        elif i in desempleo:\r\n",
        "            df.iloc[conteo,5] = 'Desempleado/a'\r\n",
        "        elif i in sin_informacion:\r\n",
        "            df.iloc[conteo,5] = 'Sin informacion'\r\n",
        "        else:\r\n",
        "            df.iloc[conteo,5] = 'Trabajo informado'\r\n",
        "        conteo = conteo +1 \r\n",
        "profesion_agrupacion(df)\r\n",
        "df = df.drop(columns='Profession')\r\n",
        "df.head()"
      ],
      "execution_count": 138,
      "outputs": [
        {
          "output_type": "execute_result",
          "data": {
            "text/html": [
              "<div>\n",
              "<style scoped>\n",
              "    .dataframe tbody tr th:only-of-type {\n",
              "        vertical-align: middle;\n",
              "    }\n",
              "\n",
              "    .dataframe tbody tr th {\n",
              "        vertical-align: top;\n",
              "    }\n",
              "\n",
              "    .dataframe thead th {\n",
              "        text-align: right;\n",
              "    }\n",
              "</style>\n",
              "<table border=\"1\" class=\"dataframe\">\n",
              "  <thead>\n",
              "    <tr style=\"text-align: right;\">\n",
              "      <th></th>\n",
              "      <th>Agree terms conditions</th>\n",
              "      <th>Card Mastercard</th>\n",
              "      <th>Edad</th>\n",
              "      <th>Region Pais</th>\n",
              "      <th>Profesion_agrupacion</th>\n",
              "    </tr>\n",
              "  </thead>\n",
              "  <tbody>\n",
              "    <tr>\n",
              "      <th>0</th>\n",
              "      <td>VERDADERO</td>\n",
              "      <td>FALSO</td>\n",
              "      <td>26</td>\n",
              "      <td>Libertador General Bernardo OHiggins</td>\n",
              "      <td>Trabajo informado</td>\n",
              "    </tr>\n",
              "    <tr>\n",
              "      <th>1</th>\n",
              "      <td>VERDADERO</td>\n",
              "      <td>VERDADERO</td>\n",
              "      <td>18</td>\n",
              "      <td>Región Metropolitana de Santiago</td>\n",
              "      <td>Estudiante</td>\n",
              "    </tr>\n",
              "    <tr>\n",
              "      <th>2</th>\n",
              "      <td>VERDADERO</td>\n",
              "      <td>FALSO</td>\n",
              "      <td>30</td>\n",
              "      <td>Región Metropolitana de Santiago</td>\n",
              "      <td>Desempleado/a</td>\n",
              "    </tr>\n",
              "    <tr>\n",
              "      <th>3</th>\n",
              "      <td>VERDADERO</td>\n",
              "      <td>FALSO</td>\n",
              "      <td>25</td>\n",
              "      <td>Atacama</td>\n",
              "      <td>Estudiante</td>\n",
              "    </tr>\n",
              "    <tr>\n",
              "      <th>4</th>\n",
              "      <td>VERDADERO</td>\n",
              "      <td>FALSO</td>\n",
              "      <td>57</td>\n",
              "      <td>La Araucanía</td>\n",
              "      <td>Trabajo informado</td>\n",
              "    </tr>\n",
              "  </tbody>\n",
              "</table>\n",
              "</div>"
            ],
            "text/plain": [
              "  Agree terms conditions  ... Profesion_agrupacion\n",
              "0              VERDADERO  ...    Trabajo informado\n",
              "1              VERDADERO  ...           Estudiante\n",
              "2              VERDADERO  ...        Desempleado/a\n",
              "3              VERDADERO  ...           Estudiante\n",
              "4              VERDADERO  ...    Trabajo informado\n",
              "\n",
              "[5 rows x 5 columns]"
            ]
          },
          "metadata": {
            "tags": []
          },
          "execution_count": 138
        }
      ]
    },
    {
      "cell_type": "code",
      "metadata": {
        "id": "pdMhQ891Eciz",
        "outputId": "64d55f9c-c2aa-4768-fbf7-6ee0e96f6c22",
        "colab": {
          "base_uri": "https://localhost:8080/",
          "height": 519
        }
      },
      "source": [
        "df = df.loc[df['Profesion_agrupacion'] != 'Sin informacion']\r\n",
        "df_profesion_agrupacion = df['Profesion_agrupacion'].value_counts().reset_index().head(10)\r\n",
        "\r\n",
        "plt.figure(figsize = (6,6))\r\n",
        "sns.barplot(data = df_profesion_agrupacion, x ='index', y ='Profesion_agrupacion', color = 'b')\r\n",
        "plt.title('Agrupacion por trabajo', fontsize = 16)\r\n",
        "sns.despine(left=True, bottom=True)\r\n",
        "plt.xlabel('Tipo de State')\r\n",
        "plt.ylabel('Cantidad')\r\n",
        "plt.xticks(rotation=90)"
      ],
      "execution_count": 139,
      "outputs": [
        {
          "output_type": "execute_result",
          "data": {
            "text/plain": [
              "(array([0, 1, 2, 3]), <a list of 4 Text major ticklabel objects>)"
            ]
          },
          "metadata": {
            "tags": []
          },
          "execution_count": 139
        },
        {
          "output_type": "display_data",
          "data": {
            "image/png": "[encoded data removed]",
            "text/plain": [
              "<Figure size 432x432 with 1 Axes>"
            ]
          },
          "metadata": {
            "tags": []
          }
        }
      ]
    },
    {
      "cell_type": "code",
      "metadata": {
        "id": "hmpgi3elDw2h",
        "outputId": "5bd13d6c-3f64-47e0-8d82-7b17cf6c0185",
        "colab": {
          "base_uri": "https://localhost:8080/",
          "height": 476
        }
      },
      "source": [
        "#Agree Terms Conditions\r\n",
        "\r\n",
        "df_agree = df['Agree terms conditions'].value_counts().reset_index().head(10)\r\n",
        "\r\n",
        "plt.figure(figsize = (6,6))\r\n",
        "sns.barplot(data = df_agree, x ='index', y ='Agree terms conditions', color = 'b')\r\n",
        "plt.title('Condicion de Contrato', fontsize = 16)\r\n",
        "sns.despine(left=True, bottom=True)\r\n",
        "plt.xlabel('Tipo de State')\r\n",
        "plt.ylabel('Cantidad')\r\n",
        "plt.xticks(rotation=90)"
      ],
      "execution_count": 78,
      "outputs": [
        {
          "output_type": "execute_result",
          "data": {
            "text/plain": [
              "(array([0, 1]), <a list of 2 Text major ticklabel objects>)"
            ]
          },
          "metadata": {
            "tags": []
          },
          "execution_count": 78
        },
        {
          "output_type": "display_data",
          "data": {
            "image/png": "[encoded data removed]",
            "text/plain": [
              "<Figure size 432x432 with 1 Axes>"
            ]
          },
          "metadata": {
            "tags": [],
            "needs_background": "light"
          }
        }
      ]
    },
    {
      "cell_type": "code",
      "metadata": {
        "id": "YK9SkktFD9Rr"
      },
      "source": [
        "df = df.drop(columns='Agree terms conditions')"
      ],
      "execution_count": 140,
      "outputs": []
    },
    {
      "cell_type": "code",
      "metadata": {
        "id": "kpr8ZD3BEAcj",
        "outputId": "40ad1bd0-d47d-4dc9-d7ab-05dc234774db",
        "colab": {
          "base_uri": "https://localhost:8080/",
          "height": 459
        }
      },
      "source": [
        "#Edad\r\n",
        "plt.figure(figsize = (8,6))\r\n",
        "sns.distplot(df['Edad'], kde = False, bins = 30)"
      ],
      "execution_count": 59,
      "outputs": [
        {
          "output_type": "stream",
          "text": [
            "/usr/local/lib/python3.6/dist-packages/seaborn/distributions.py:2551: FutureWarning: `distplot` is a deprecated function and will be removed in a future version. Please adapt your code to use either `displot` (a figure-level function with similar flexibility) or `histplot` (an axes-level function for histograms).\n",
            "  warnings.warn(msg, FutureWarning)\n"
          ],
          "name": "stderr"
        },
        {
          "output_type": "execute_result",
          "data": {
            "text/plain": [
              "<matplotlib.axes._subplots.AxesSubplot at 0x7f8e166edf28>"
            ]
          },
          "metadata": {
            "tags": []
          },
          "execution_count": 59
        },
        {
          "output_type": "display_data",
          "data": {
            "image/png": "[encoded data removed]",
            "text/plain": [
              "<Figure size 576x432 with 1 Axes>"
            ]
          },
          "metadata": {
            "tags": [],
            "needs_background": "light"
          }
        }
      ]
    },
    {
      "cell_type": "code",
      "metadata": {
        "id": "NhAghCzfEHAR",
        "outputId": "89a90250-b18c-4043-dcba-8035ba1efaec",
        "colab": {
          "base_uri": "https://localhost:8080/",
          "height": 378
        }
      },
      "source": [
        "plt.figure(figsize = (8,6))\r\n",
        "sns.boxplot(y = 'Edad',data = df)"
      ],
      "execution_count": 60,
      "outputs": [
        {
          "output_type": "execute_result",
          "data": {
            "text/plain": [
              "<matplotlib.axes._subplots.AxesSubplot at 0x7f8e166ed908>"
            ]
          },
          "metadata": {
            "tags": []
          },
          "execution_count": 60
        },
        {
          "output_type": "display_data",
          "data": {
            "image/png": "[encoded data removed]",
            "text/plain": [
              "<Figure size 576x432 with 1 Axes>"
            ]
          },
          "metadata": {
            "tags": [],
            "needs_background": "light"
          }
        }
      ]
    },
    {
      "cell_type": "code",
      "metadata": {
        "id": "sXc_q9pfEJ_O",
        "outputId": "63bcf97d-e9fd-4e6e-fcd1-4fbcb01faddf",
        "colab": {
          "base_uri": "https://localhost:8080/",
          "height": 374
        }
      },
      "source": [
        "df = df.loc[df['Edad'] < 100]\r\n",
        "plt.figure(figsize = (8,6))\r\n",
        "sns.boxplot(y = 'Edad',data = df)"
      ],
      "execution_count": 141,
      "outputs": [
        {
          "output_type": "execute_result",
          "data": {
            "text/plain": [
              "<matplotlib.axes._subplots.AxesSubplot at 0x7f8e04fff8d0>"
            ]
          },
          "metadata": {
            "tags": []
          },
          "execution_count": 141
        },
        {
          "output_type": "display_data",
          "data": {
            "image/png": "[encoded data removed]",
            "text/plain": [
              "<Figure size 576x432 with 1 Axes>"
            ]
          },
          "metadata": {
            "tags": []
          }
        }
      ]
    },
    {
      "cell_type": "code",
      "metadata": {
        "id": "dKhWLfdrER8V",
        "outputId": "890e74a1-b54c-47d8-9668-f6b8f8c93c2b",
        "colab": {
          "base_uri": "https://localhost:8080/",
          "height": 476
        }
      },
      "source": [
        "#MasterCard\r\n",
        "\r\n",
        "df_mastercard = df['Card Mastercard'].value_counts().reset_index().head(10)\r\n",
        "\r\n",
        "plt.figure(figsize = (6,6))\r\n",
        "sns.barplot(data = df_mastercard, x ='index', y ='Card Mastercard', color = 'b')\r\n",
        "plt.title('MasterCard', fontsize = 16)\r\n",
        "sns.despine(left=True, bottom=True)\r\n",
        "plt.xlabel('Tipo de State')\r\n",
        "plt.ylabel('Cantidad')\r\n",
        "plt.xticks(rotation=90)\r\n"
      ],
      "execution_count": 66,
      "outputs": [
        {
          "output_type": "execute_result",
          "data": {
            "text/plain": [
              "(array([0, 1]), <a list of 2 Text major ticklabel objects>)"
            ]
          },
          "metadata": {
            "tags": []
          },
          "execution_count": 66
        },
        {
          "output_type": "display_data",
          "data": {
            "image/png": "[encoded data removed]",
            "text/plain": [
              "<Figure size 432x432 with 1 Axes>"
            ]
          },
          "metadata": {
            "tags": [],
            "needs_background": "light"
          }
        }
      ]
    },
    {
      "cell_type": "code",
      "metadata": {
        "id": "KVXv1jMgGV8o",
        "outputId": "33c061a2-4ff3-4a65-c9e6-acea2e91cf23",
        "colab": {
          "base_uri": "https://localhost:8080/",
          "height": 412
        }
      },
      "source": [
        "#Region Pais\r\n",
        "\r\n",
        "df_region = df['Region Pais'].value_counts().reset_index()\r\n",
        "\r\n",
        "plt.figure(figsize = (6,6))\r\n",
        "sns.barplot(data = df_region, y ='index', x ='Region Pais', color = 'b')\r\n",
        "\r\n",
        "plt.title('Cantidad de personas por ciudad', fontsize = 16)\r\n",
        "sns.despine(left=True, bottom=True)"
      ],
      "execution_count": 142,
      "outputs": [
        {
          "output_type": "display_data",
          "data": {
            "image/png": "[encoded data removed]",
            "text/plain": [
              "<Figure size 432x432 with 1 Axes>"
            ]
          },
          "metadata": {
            "tags": []
          }
        }
      ]
    },
    {
      "cell_type": "code",
      "metadata": {
        "id": "nUjzU1OAGti8",
        "outputId": "508e2a1c-e353-48f6-fce6-e869d5f820e0",
        "colab": {
          "base_uri": "https://localhost:8080/",
          "height": 412
        }
      },
      "source": [
        "df = df.loc[df['Region Pais'] != 'Chile']\r\n",
        "\r\n",
        "def region(x):\r\n",
        "   if  x == 'Región Metropolitana de Santiago':\r\n",
        "       return 'Santiago'\r\n",
        "   else:\r\n",
        "       return 'No Santiago'\r\n",
        "\r\n",
        "df['Region Pais'] = df['Region Pais'].apply(lambda x : region(x))\r\n",
        "\r\n",
        "df_region = df['Region Pais'].value_counts().reset_index()\r\n",
        "\r\n",
        "plt.figure(figsize = (6,6))\r\n",
        "sns.barplot(data = df_region, x ='index', y ='Region Pais', color = 'b')\r\n",
        "\r\n",
        "plt.title('Cantidad de personas por ciudad', fontsize = 16)\r\n",
        "sns.despine(left=True, bottom=True)"
      ],
      "execution_count": 143,
      "outputs": [
        {
          "output_type": "display_data",
          "data": {
            "image/png": "[encoded data removed]",
            "text/plain": [
              "<Figure size 432x432 with 1 Axes>"
            ]
          },
          "metadata": {
            "tags": []
          }
        }
      ]
    },
    {
      "cell_type": "markdown",
      "metadata": {
        "id": "OZcfZ3s3IXnS"
      },
      "source": [
        "## Analisis Multi-Variado"
      ]
    },
    {
      "cell_type": "code",
      "metadata": {
        "id": "KM_AikK0Ia9V",
        "outputId": "ded5d62e-b207-44d3-e0fe-48db08a79cfb",
        "colab": {
          "base_uri": "https://localhost:8080/",
          "height": 298
        }
      },
      "source": [
        "df['Edad'] = df['Edad'].apply(lambda x: int(x))\r\n",
        "\r\n",
        "df_promedio = df[['Profesion_agrupacion','Edad']].groupby('Profesion_agrupacion').mean().reset_index()\r\n",
        "\r\n",
        "g = sns.barplot(data = df_promedio, x = 'Profesion_agrupacion', y = 'Edad', color = 'b')\r\n",
        "\r\n",
        "ax=g\r\n",
        "#annotate axis = seaborn axis\r\n",
        "for p in ax.patches:\r\n",
        "             ax.annotate(\"%.2f\" % p.get_height(), (p.get_x() + p.get_width() / 2., p.get_height()),\r\n",
        "                 ha='center', va='center', fontsize=11, color='black', xytext=(0, 20),\r\n",
        "                 textcoords='offset points')\r\n",
        "_ = g.set_ylim(0,90)\r\n",
        "\r\n",
        "plt.title('Edad Promedio por Categoria', fontsize = 16)\r\n",
        "sns.despine(left=True, bottom=True)"
      ],
      "execution_count": 94,
      "outputs": [
        {
          "output_type": "display_data",
          "data": {
            "image/png": "[encoded data removed]",
            "text/plain": [
              "<Figure size 432x288 with 1 Axes>"
            ]
          },
          "metadata": {
            "tags": [],
            "needs_background": "light"
          }
        }
      ]
    },
    {
      "cell_type": "code",
      "metadata": {
        "id": "3dn4ANDaH00s",
        "outputId": "9fd4e14c-3b80-4053-abab-c5d308b14f34",
        "colab": {
          "base_uri": "https://localhost:8080/",
          "height": 298
        }
      },
      "source": [
        "\r\n",
        "df_card = df.groupby(['Profesion_agrupacion','Card Mastercard']).count()['Edad'].reset_index()\r\n",
        "\r\n",
        "sns.barplot(data = df_card, x = 'Profesion_agrupacion', y = 'Edad' , hue =  'Card Mastercard')\r\n",
        "plt.title('Acceso a MasterCard por Categoria', fontsize = 16)\r\n",
        "sns.despine(left=True, bottom=True)"
      ],
      "execution_count": 96,
      "outputs": [
        {
          "output_type": "display_data",
          "data": {
            "image/png": "[encoded data removed]",
            "text/plain": [
              "<Figure size 432x288 with 1 Axes>"
            ]
          },
          "metadata": {
            "tags": [],
            "needs_background": "light"
          }
        }
      ]
    },
    {
      "cell_type": "code",
      "metadata": {
        "id": "tv_zMpn3JDLI",
        "outputId": "927126c2-60b2-4a29-e6ad-61510e30a77f",
        "colab": {
          "base_uri": "https://localhost:8080/",
          "height": 298
        }
      },
      "source": [
        "df_region = df.groupby(['Profesion_agrupacion','Region Pais']).count()['Edad'].reset_index()\r\n",
        "\r\n",
        "sns.barplot(data = df_region, x = 'Profesion_agrupacion', y = 'Edad' , hue =  'Region Pais')\r\n",
        "plt.title('Ubicacion de las personas por Categoria', fontsize = 16)\r\n",
        "sns.despine(left=True, bottom=True)"
      ],
      "execution_count": 97,
      "outputs": [
        {
          "output_type": "display_data",
          "data": {
            "image/png": "[encoded data removed]",
            "text/plain": [
              "<Figure size 432x288 with 1 Axes>"
            ]
          },
          "metadata": {
            "tags": [],
            "needs_background": "light"
          }
        }
      ]
    },
    {
      "cell_type": "markdown",
      "metadata": {
        "id": "Dnj_KM2NKZsC"
      },
      "source": [
        "## Columnas Dummy"
      ]
    },
    {
      "cell_type": "code",
      "metadata": {
        "id": "-NUahLuRO8DI",
        "outputId": "58868491-1a73-41a0-ba59-a50f84bf274a",
        "colab": {
          "base_uri": "https://localhost:8080/",
          "height": 419
        }
      },
      "source": [
        "df_dummy = df.copy()\r\n",
        "df_dummy"
      ],
      "execution_count": 144,
      "outputs": [
        {
          "output_type": "execute_result",
          "data": {
            "text/html": [
              "<div>\n",
              "<style scoped>\n",
              "    .dataframe tbody tr th:only-of-type {\n",
              "        vertical-align: middle;\n",
              "    }\n",
              "\n",
              "    .dataframe tbody tr th {\n",
              "        vertical-align: top;\n",
              "    }\n",
              "\n",
              "    .dataframe thead th {\n",
              "        text-align: right;\n",
              "    }\n",
              "</style>\n",
              "<table border=\"1\" class=\"dataframe\">\n",
              "  <thead>\n",
              "    <tr style=\"text-align: right;\">\n",
              "      <th></th>\n",
              "      <th>Card Mastercard</th>\n",
              "      <th>Edad</th>\n",
              "      <th>Region Pais</th>\n",
              "      <th>Profesion_agrupacion</th>\n",
              "    </tr>\n",
              "  </thead>\n",
              "  <tbody>\n",
              "    <tr>\n",
              "      <th>0</th>\n",
              "      <td>FALSO</td>\n",
              "      <td>26</td>\n",
              "      <td>No Santiago</td>\n",
              "      <td>Trabajo informado</td>\n",
              "    </tr>\n",
              "    <tr>\n",
              "      <th>1</th>\n",
              "      <td>VERDADERO</td>\n",
              "      <td>18</td>\n",
              "      <td>Santiago</td>\n",
              "      <td>Estudiante</td>\n",
              "    </tr>\n",
              "    <tr>\n",
              "      <th>2</th>\n",
              "      <td>FALSO</td>\n",
              "      <td>30</td>\n",
              "      <td>Santiago</td>\n",
              "      <td>Desempleado/a</td>\n",
              "    </tr>\n",
              "    <tr>\n",
              "      <th>3</th>\n",
              "      <td>FALSO</td>\n",
              "      <td>25</td>\n",
              "      <td>No Santiago</td>\n",
              "      <td>Estudiante</td>\n",
              "    </tr>\n",
              "    <tr>\n",
              "      <th>4</th>\n",
              "      <td>FALSO</td>\n",
              "      <td>57</td>\n",
              "      <td>No Santiago</td>\n",
              "      <td>Trabajo informado</td>\n",
              "    </tr>\n",
              "    <tr>\n",
              "      <th>...</th>\n",
              "      <td>...</td>\n",
              "      <td>...</td>\n",
              "      <td>...</td>\n",
              "      <td>...</td>\n",
              "    </tr>\n",
              "    <tr>\n",
              "      <th>28846</th>\n",
              "      <td>VERDADERO</td>\n",
              "      <td>27</td>\n",
              "      <td>Santiago</td>\n",
              "      <td>Trabajo informado</td>\n",
              "    </tr>\n",
              "    <tr>\n",
              "      <th>28851</th>\n",
              "      <td>VERDADERO</td>\n",
              "      <td>29</td>\n",
              "      <td>Santiago</td>\n",
              "      <td>Trabajo informado</td>\n",
              "    </tr>\n",
              "    <tr>\n",
              "      <th>28855</th>\n",
              "      <td>VERDADERO</td>\n",
              "      <td>28</td>\n",
              "      <td>Santiago</td>\n",
              "      <td>Trabajo informado</td>\n",
              "    </tr>\n",
              "    <tr>\n",
              "      <th>28858</th>\n",
              "      <td>FALSO</td>\n",
              "      <td>36</td>\n",
              "      <td>Santiago</td>\n",
              "      <td>Trabajo informado</td>\n",
              "    </tr>\n",
              "    <tr>\n",
              "      <th>28879</th>\n",
              "      <td>VERDADERO</td>\n",
              "      <td>29</td>\n",
              "      <td>Santiago</td>\n",
              "      <td>Trabajo informado</td>\n",
              "    </tr>\n",
              "  </tbody>\n",
              "</table>\n",
              "<p>28484 rows × 4 columns</p>\n",
              "</div>"
            ],
            "text/plain": [
              "      Card Mastercard  Edad  Region Pais Profesion_agrupacion\n",
              "0               FALSO    26  No Santiago    Trabajo informado\n",
              "1           VERDADERO    18     Santiago           Estudiante\n",
              "2               FALSO    30     Santiago        Desempleado/a\n",
              "3               FALSO    25  No Santiago           Estudiante\n",
              "4               FALSO    57  No Santiago    Trabajo informado\n",
              "...               ...   ...          ...                  ...\n",
              "28846       VERDADERO    27     Santiago    Trabajo informado\n",
              "28851       VERDADERO    29     Santiago    Trabajo informado\n",
              "28855       VERDADERO    28     Santiago    Trabajo informado\n",
              "28858           FALSO    36     Santiago    Trabajo informado\n",
              "28879       VERDADERO    29     Santiago    Trabajo informado\n",
              "\n",
              "[28484 rows x 4 columns]"
            ]
          },
          "metadata": {
            "tags": []
          },
          "execution_count": 144
        }
      ]
    },
    {
      "cell_type": "code",
      "metadata": {
        "id": "-CVfPhytKbrv"
      },
      "source": [
        "def dummies(df_dummy):\r\n",
        "  df_dummy = pd.get_dummies(df_dummy, columns=['Card Mastercard'])\r\n",
        "  df_dummy = df_dummy.drop(columns='Card Mastercard_FALSO')\r\n",
        "\r\n",
        "  df_dummy = pd.get_dummies(df_dummy, columns=['Profesion_agrupacion'])\r\n",
        "  df_dummy = df_dummy.drop(columns='Profesion_agrupacion_Desempleado/a')\r\n",
        "\r\n",
        "  df_dummy = pd.get_dummies(df_dummy, columns=['Region Pais'])\r\n",
        "  df_dummy = df_dummy.drop(columns='Region Pais_No Santiago')\r\n",
        "  \r\n",
        "  return df_dummy\r\n",
        "\r\n",
        "df_dummy = dummies(df_dummy)"
      ],
      "execution_count": 146,
      "outputs": []
    },
    {
      "cell_type": "code",
      "metadata": {
        "id": "YOMHXO-EPUpw",
        "outputId": "fdb4add5-fccb-4d9b-e133-bf69f7739899",
        "colab": {
          "base_uri": "https://localhost:8080/",
          "height": 241
        }
      },
      "source": [
        "df_dummy.head()"
      ],
      "execution_count": 148,
      "outputs": [
        {
          "output_type": "execute_result",
          "data": {
            "text/html": [
              "<div>\n",
              "<style scoped>\n",
              "    .dataframe tbody tr th:only-of-type {\n",
              "        vertical-align: middle;\n",
              "    }\n",
              "\n",
              "    .dataframe tbody tr th {\n",
              "        vertical-align: top;\n",
              "    }\n",
              "\n",
              "    .dataframe thead th {\n",
              "        text-align: right;\n",
              "    }\n",
              "</style>\n",
              "<table border=\"1\" class=\"dataframe\">\n",
              "  <thead>\n",
              "    <tr style=\"text-align: right;\">\n",
              "      <th></th>\n",
              "      <th>Edad</th>\n",
              "      <th>Card Mastercard_VERDADERO</th>\n",
              "      <th>Profesion_agrupacion_Dueña de casa</th>\n",
              "      <th>Profesion_agrupacion_Estudiante</th>\n",
              "      <th>Profesion_agrupacion_Trabajo informado</th>\n",
              "      <th>Region Pais_Santiago</th>\n",
              "    </tr>\n",
              "  </thead>\n",
              "  <tbody>\n",
              "    <tr>\n",
              "      <th>0</th>\n",
              "      <td>26</td>\n",
              "      <td>0</td>\n",
              "      <td>0</td>\n",
              "      <td>0</td>\n",
              "      <td>1</td>\n",
              "      <td>0</td>\n",
              "    </tr>\n",
              "    <tr>\n",
              "      <th>1</th>\n",
              "      <td>18</td>\n",
              "      <td>1</td>\n",
              "      <td>0</td>\n",
              "      <td>1</td>\n",
              "      <td>0</td>\n",
              "      <td>1</td>\n",
              "    </tr>\n",
              "    <tr>\n",
              "      <th>2</th>\n",
              "      <td>30</td>\n",
              "      <td>0</td>\n",
              "      <td>0</td>\n",
              "      <td>0</td>\n",
              "      <td>0</td>\n",
              "      <td>1</td>\n",
              "    </tr>\n",
              "    <tr>\n",
              "      <th>3</th>\n",
              "      <td>25</td>\n",
              "      <td>0</td>\n",
              "      <td>0</td>\n",
              "      <td>1</td>\n",
              "      <td>0</td>\n",
              "      <td>0</td>\n",
              "    </tr>\n",
              "    <tr>\n",
              "      <th>4</th>\n",
              "      <td>57</td>\n",
              "      <td>0</td>\n",
              "      <td>0</td>\n",
              "      <td>0</td>\n",
              "      <td>1</td>\n",
              "      <td>0</td>\n",
              "    </tr>\n",
              "  </tbody>\n",
              "</table>\n",
              "</div>"
            ],
            "text/plain": [
              "   Edad  ...  Region Pais_Santiago\n",
              "0    26  ...                     0\n",
              "1    18  ...                     1\n",
              "2    30  ...                     1\n",
              "3    25  ...                     0\n",
              "4    57  ...                     0\n",
              "\n",
              "[5 rows x 6 columns]"
            ]
          },
          "metadata": {
            "tags": []
          },
          "execution_count": 148
        }
      ]
    },
    {
      "cell_type": "markdown",
      "metadata": {
        "id": "0NZywObKLdah"
      },
      "source": [
        "# Clustering"
      ]
    },
    {
      "cell_type": "code",
      "metadata": {
        "id": "rXoHaiUNLgyj"
      },
      "source": [
        "from sklearn.cluster import KMeans\r\n",
        "\r\n",
        "import pandas as pd\r\n",
        "import numpy as np\r\n",
        "import matplotlib.pyplot as plt\r\n",
        "%matplotlib inline\r\n",
        "import seaborn as sns\r\n",
        "import sklearn\r\n",
        "from sklearn.preprocessing import StandardScaler\r\n",
        "from sklearn.cluster import KMeans\r\n",
        "from sklearn import metrics\r\n",
        "from sklearn.cluster import AgglomerativeClustering"
      ],
      "execution_count": 149,
      "outputs": []
    },
    {
      "cell_type": "code",
      "metadata": {
        "id": "m4MNqiC1Lkes"
      },
      "source": [
        "df_modelo = df_dummy.copy()"
      ],
      "execution_count": 150,
      "outputs": []
    },
    {
      "cell_type": "code",
      "metadata": {
        "id": "JTP2N98FLlqB",
        "outputId": "8345399d-9578-4364-deb9-c4457dceeada",
        "colab": {
          "base_uri": "https://localhost:8080/",
          "height": 295
        }
      },
      "source": [
        "#Curva Eblow\r\n",
        "\r\n",
        "sum_of_squared_distances = []\r\n",
        "K = range(1,20)\r\n",
        "for k in K:\r\n",
        "    k_means = KMeans(n_clusters=k)\r\n",
        "    model = k_means.fit(df_modelo)\r\n",
        "    sum_of_squared_distances.append(k_means.inertia_)\r\n",
        "\r\n",
        "plt.plot(K, sum_of_squared_distances, 'bx-')\r\n",
        "plt.xlabel('k')\r\n",
        "plt.ylabel('sum_of_squared_distances')\r\n",
        "plt.title('elbow method for optimal k')\r\n",
        "plt.show()"
      ],
      "execution_count": 112,
      "outputs": [
        {
          "output_type": "display_data",
          "data": {
            "image/png": "[encoded data removed]",
            "text/plain": [
              "<Figure size 432x288 with 1 Axes>"
            ]
          },
          "metadata": {
            "tags": [],
            "needs_background": "light"
          }
        }
      ]
    },
    {
      "cell_type": "markdown",
      "metadata": {
        "id": "13qh5ar5M4x1"
      },
      "source": [
        "# Optimo y Visualizacion"
      ]
    },
    {
      "cell_type": "code",
      "metadata": {
        "id": "9e_4-utHM-ec",
        "outputId": "28b6e4a4-6532-48d7-a90e-ffff663ab1d6",
        "colab": {
          "base_uri": "https://localhost:8080/",
          "height": 355
        }
      },
      "source": [
        "k_means_optimo = KMeans(n_clusters=5,random_state = 11324)\r\n",
        "model = k_means_optimo.fit(df_modelo)\r\n",
        "y_hat_optimo = k_means_optimo.predict(df_modelo)\r\n",
        "labels_optimo = k_means_optimo.labels_\r\n",
        "\r\n",
        "sns.set()\r\n",
        "sns.countplot(labels_optimo, color = 'b' )\r\n",
        "plt.title('Distribucion de Categorias')\r\n",
        "plt.xlabel('Categorias')\r\n",
        "plt.ylabel('Cantidad')\r\n",
        "sns.despine(left=True, bottom=True)"
      ],
      "execution_count": 152,
      "outputs": [
        {
          "output_type": "stream",
          "text": [
            "/usr/local/lib/python3.6/dist-packages/seaborn/_decorators.py:43: FutureWarning: Pass the following variable as a keyword arg: x. From version 0.12, the only valid positional argument will be `data`, and passing other arguments without an explicit keyword will result in an error or misinterpretation.\n",
            "  FutureWarning\n"
          ],
          "name": "stderr"
        },
        {
          "output_type": "display_data",
          "data": {
            "image/png": "[encoded data removed]",
            "text/plain": [
              "<Figure size 432x288 with 1 Axes>"
            ]
          },
          "metadata": {
            "tags": []
          }
        }
      ]
    },
    {
      "cell_type": "code",
      "metadata": {
        "id": "6faYO8yvNJiv",
        "outputId": "ae63e16f-dab9-4bec-86ab-07a7375cde13",
        "colab": {
          "base_uri": "https://localhost:8080/",
          "height": 204
        }
      },
      "source": [
        "results = pd.DataFrame(labels_optimo ,columns =['Categoria'])\r\n",
        "df = df.reset_index()\r\n",
        "df = df.drop(columns='index')\r\n",
        "df = pd.concat([df, results], axis=1)\r\n",
        "df.head()"
      ],
      "execution_count": 153,
      "outputs": [
        {
          "output_type": "execute_result",
          "data": {
            "text/html": [
              "<div>\n",
              "<style scoped>\n",
              "    .dataframe tbody tr th:only-of-type {\n",
              "        vertical-align: middle;\n",
              "    }\n",
              "\n",
              "    .dataframe tbody tr th {\n",
              "        vertical-align: top;\n",
              "    }\n",
              "\n",
              "    .dataframe thead th {\n",
              "        text-align: right;\n",
              "    }\n",
              "</style>\n",
              "<table border=\"1\" class=\"dataframe\">\n",
              "  <thead>\n",
              "    <tr style=\"text-align: right;\">\n",
              "      <th></th>\n",
              "      <th>Card Mastercard</th>\n",
              "      <th>Edad</th>\n",
              "      <th>Region Pais</th>\n",
              "      <th>Profesion_agrupacion</th>\n",
              "      <th>Categoria</th>\n",
              "    </tr>\n",
              "  </thead>\n",
              "  <tbody>\n",
              "    <tr>\n",
              "      <th>0</th>\n",
              "      <td>FALSO</td>\n",
              "      <td>26</td>\n",
              "      <td>No Santiago</td>\n",
              "      <td>Trabajo informado</td>\n",
              "      <td>1</td>\n",
              "    </tr>\n",
              "    <tr>\n",
              "      <th>1</th>\n",
              "      <td>VERDADERO</td>\n",
              "      <td>18</td>\n",
              "      <td>Santiago</td>\n",
              "      <td>Estudiante</td>\n",
              "      <td>4</td>\n",
              "    </tr>\n",
              "    <tr>\n",
              "      <th>2</th>\n",
              "      <td>FALSO</td>\n",
              "      <td>30</td>\n",
              "      <td>Santiago</td>\n",
              "      <td>Desempleado/a</td>\n",
              "      <td>1</td>\n",
              "    </tr>\n",
              "    <tr>\n",
              "      <th>3</th>\n",
              "      <td>FALSO</td>\n",
              "      <td>25</td>\n",
              "      <td>No Santiago</td>\n",
              "      <td>Estudiante</td>\n",
              "      <td>1</td>\n",
              "    </tr>\n",
              "    <tr>\n",
              "      <th>4</th>\n",
              "      <td>FALSO</td>\n",
              "      <td>57</td>\n",
              "      <td>No Santiago</td>\n",
              "      <td>Trabajo informado</td>\n",
              "      <td>3</td>\n",
              "    </tr>\n",
              "  </tbody>\n",
              "</table>\n",
              "</div>"
            ],
            "text/plain": [
              "  Card Mastercard  Edad  Region Pais Profesion_agrupacion  Categoria\n",
              "0           FALSO    26  No Santiago    Trabajo informado          1\n",
              "1       VERDADERO    18     Santiago           Estudiante          4\n",
              "2           FALSO    30     Santiago        Desempleado/a          1\n",
              "3           FALSO    25  No Santiago           Estudiante          1\n",
              "4           FALSO    57  No Santiago    Trabajo informado          3"
            ]
          },
          "metadata": {
            "tags": []
          },
          "execution_count": 153
        }
      ]
    },
    {
      "cell_type": "code",
      "metadata": {
        "id": "AYJDoyAZNPMq",
        "outputId": "710ab581-5944-4e7f-871c-4d74d52bacf6",
        "colab": {
          "base_uri": "https://localhost:8080/",
          "height": 303
        }
      },
      "source": [
        "sns.boxplot( data = df, y = 'Edad', x = 'Categoria')\r\n",
        "plt.title('Distribuciones de Edad por Grupo ', fontsize = 16)\r\n",
        "plt.xlabel('Grupo')\r\n",
        "plt.ylabel('Cantidad')\r\n",
        "sns.despine(left=True, bottom=True)"
      ],
      "execution_count": 154,
      "outputs": [
        {
          "output_type": "display_data",
          "data": {
            "image/png": "[encoded data removed]",
            "text/plain": [
              "<Figure size 432x288 with 1 Axes>"
            ]
          },
          "metadata": {
            "tags": []
          }
        }
      ]
    },
    {
      "cell_type": "code",
      "metadata": {
        "id": "T2jVSSdrNW2C",
        "outputId": "ddce1842-8127-4de6-9581-42c4efef9581",
        "colab": {
          "base_uri": "https://localhost:8080/",
          "height": 412
        }
      },
      "source": [
        "\r\n",
        "categoria = df.groupby(['Categoria','Profesion_agrupacion']).count()['Card Mastercard'].reset_index()\r\n",
        "\r\n",
        "plt.figure(figsize = (8,6))\r\n",
        "sns.barplot( data = categoria, hue = 'Categoria', y = 'Card Mastercard', x = 'Profesion_agrupacion')\r\n",
        "\r\n",
        "plt.title('Cantidad de personas por grupo y por categoria', fontsize = 16)\r\n",
        "plt.xlabel('Grupo')\r\n",
        "plt.ylabel('Cantidad')\r\n",
        "sns.despine(left=True, bottom=True)\r\n"
      ],
      "execution_count": 162,
      "outputs": [
        {
          "output_type": "display_data",
          "data": {
            "image/png": "[encoded data removed]",
            "text/plain": [
              "<Figure size 576x432 with 1 Axes>"
            ]
          },
          "metadata": {
            "tags": []
          }
        }
      ]
    },
    {
      "cell_type": "code",
      "metadata": {
        "id": "oO3e9Cd5P2kc",
        "outputId": "ca5710a5-7906-4258-af6d-e8d22eea370e",
        "colab": {
          "base_uri": "https://localhost:8080/",
          "height": 303
        }
      },
      "source": [
        "master = df.groupby(['Card Mastercard','Categoria']).count()['Profesion_agrupacion'].reset_index()\r\n",
        "\r\n",
        "sns.barplot( data = master, x = 'Card Mastercard', hue = 'Categoria', y = 'Profesion_agrupacion')\r\n",
        "\r\n",
        "plt.title('Cantidad de personas por grupo y por categoria', fontsize = 16)\r\n",
        "plt.xlabel('Grupo')\r\n",
        "plt.ylabel('Cantidad')\r\n",
        "sns.despine(left=True, bottom=True)"
      ],
      "execution_count": 163,
      "outputs": [
        {
          "output_type": "display_data",
          "data": {
            "image/png": "[encoded data removed]",
            "text/plain": [
              "<Figure size 432x288 with 1 Axes>"
            ]
          },
          "metadata": {
            "tags": []
          }
        }
      ]
    },
    {
      "cell_type": "markdown",
      "metadata": {
        "id": "UopAI9HRQ8sQ"
      },
      "source": [
        "# Serializar el modelo"
      ]
    },
    {
      "cell_type": "code",
      "metadata": {
        "id": "j4PNchWOQ_LO",
        "outputId": "2232958d-6ca7-49c8-a7be-570273d83ca8",
        "colab": {
          "base_uri": "https://localhost:8080/"
        }
      },
      "source": [
        "import joblib\r\n",
        "joblib.dump(model, 'modelo_clustering.pkl')\r\n",
        "\r\n",
        "modelo_columnas = list(df_modelo.columns)\r\n",
        "\r\n",
        "joblib.dump(modelo_columnas, 'modelo_columns_clustering.pkl')"
      ],
      "execution_count": 167,
      "outputs": [
        {
          "output_type": "execute_result",
          "data": {
            "text/plain": [
              "['modelo_columns_clustering.pkl']"
            ]
          },
          "metadata": {
            "tags": []
          },
          "execution_count": 167
        }
      ]
    }
  ]
}