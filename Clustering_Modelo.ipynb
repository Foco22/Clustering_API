{
  "nbformat": 4,
  "nbformat_minor": 0,
  "metadata": {
    "colab": {
      "name": "Te damos la bienvenida a Colaboratory",
      "provenance": [],
      "collapsed_sections": [],
      "include_colab_link": true
    },
    "kernelspec": {
      "display_name": "Python 3",
      "name": "python3"
    }
  },
  "cells": [
    {
      "cell_type": "markdown",
      "metadata": {
        "id": "view-in-github",
        "colab_type": "text"
      },
      "source": [
        "<a href=\"https://colab.research.google.com/github/Foco22/Clustering_API/blob/main/Clustering_Modelo.ipynb\" target=\"_parent\"><img src=\"https://colab.research.google.com/assets/colab-badge.svg\" alt=\"Open In Colab\"/></a>"
      ]
    },
    {
      "cell_type": "code",
      "metadata": {
        "id": "6JXDeFCfAYPc"
      },
      "source": [
        "import pandas as pd\r\n",
        "import numpy as np\r\n",
        "import matplotlib.pyplot as plt\r\n",
        "import seaborn as sns"
      ],
      "execution_count": 2,
      "outputs": []
    },
    {
      "cell_type": "markdown",
      "metadata": {
        "id": "dJmqVo33Acww"
      },
      "source": [
        "#Carga de Datos"
      ]
    },
    {
      "cell_type": "code",
      "metadata": {
        "colab": {
          "resources": {
            "http://localhost:8080/nbextensions/google.colab/files.js": {
              "data": "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",
              "ok": true,
              "headers": [
                [
                  "content-type",
                  "application/javascript"
                ]
              ],
              "status": 200,
              "status_text": ""
            }
          },
          "base_uri": "https://localhost:8080/",
          "height": 91
        },
        "id": "Aqq41Y-0Am2h",
        "outputId": "0ab04da9-5141-4bf5-a9c3-98010bdb999b"
      },
      "source": [
        "from google.colab import files\n",
        "\n",
        "uploaded = files.upload()\n",
        "\n",
        "for fn in uploaded.keys():\n",
        "  print('User uploaded file \"{name}\" with length {length} bytes'.format(\n",
        "      name=fn, length=len(uploaded[fn])))"
      ],
      "execution_count": 3,
      "outputs": [
        {
          "output_type": "display_data",
          "data": {
            "text/html": [
              "\n",
              "     <input type=\"file\" id=\"files-89b1b201-1b52-4a4d-8176-d1797bbe3e3d\" name=\"files[]\" multiple disabled\n",
              "        style=\"border:none\" />\n",
              "     <output id=\"result-89b1b201-1b52-4a4d-8176-d1797bbe3e3d\">\n",
              "      Upload widget is only available when the cell has been executed in the\n",
              "      current browser session. Please rerun this cell to enable.\n",
              "      </output>\n",
              "      <script src=\"/nbextensions/google.colab/files.js\"></script> "
            ],
            "text/plain": [
              "<IPython.core.display.HTML object>"
            ]
          },
          "metadata": {
            "tags": []
          }
        },
        {
          "output_type": "stream",
          "text": [
            "Saving Users1.csv to Users1.csv\n",
            "User uploaded file \"Users1.csv\" with length 1879259 bytes\n"
          ],
          "name": "stdout"
        }
      ]
    },
    {
      "cell_type": "code",
      "metadata": {
        "colab": {
          "base_uri": "https://localhost:8080/",
          "height": 197
        },
        "id": "ICPIFVoeA0A3",
        "outputId": "5b4ea964-05ba-459e-899b-0f5a890c29ce"
      },
      "source": [
        "df = pd.read_csv('Users1.csv', encoding= 'unicode_escape', sep = ';')\r\n",
        "df.head()"
      ],
      "execution_count": 58,
      "outputs": [
        {
          "output_type": "execute_result",
          "data": {
            "text/html": [
              "<div>\n",
              "<style scoped>\n",
              "    .dataframe tbody tr th:only-of-type {\n",
              "        vertical-align: middle;\n",
              "    }\n",
              "\n",
              "    .dataframe tbody tr th {\n",
              "        vertical-align: top;\n",
              "    }\n",
              "\n",
              "    .dataframe thead th {\n",
              "        text-align: right;\n",
              "    }\n",
              "</style>\n",
              "<table border=\"1\" class=\"dataframe\">\n",
              "  <thead>\n",
              "    <tr style=\"text-align: right;\">\n",
              "      <th></th>\n",
              "      <th>State</th>\n",
              "      <th>Profession</th>\n",
              "      <th>Profesion Key</th>\n",
              "      <th>Agree terms conditions</th>\n",
              "      <th>Card Mastercard</th>\n",
              "      <th>Source</th>\n",
              "      <th>Edad</th>\n",
              "      <th>Region Pais</th>\n",
              "    </tr>\n",
              "  </thead>\n",
              "  <tbody>\n",
              "    <tr>\n",
              "      <th>0</th>\n",
              "      <td>4</td>\n",
              "      <td>Horticultor</td>\n",
              "      <td>1</td>\n",
              "      <td>VERDADERO</td>\n",
              "      <td>FALSO</td>\n",
              "      <td>NaN</td>\n",
              "      <td>26</td>\n",
              "      <td>Libertador General Bernardo OHiggins</td>\n",
              "    </tr>\n",
              "    <tr>\n",
              "      <th>1</th>\n",
              "      <td>4</td>\n",
              "      <td>estudiante</td>\n",
              "      <td>2</td>\n",
              "      <td>VERDADERO</td>\n",
              "      <td>VERDADERO</td>\n",
              "      <td>NaN</td>\n",
              "      <td>18</td>\n",
              "      <td>Región Metropolitana de Santiago</td>\n",
              "    </tr>\n",
              "    <tr>\n",
              "      <th>2</th>\n",
              "      <td>4</td>\n",
              "      <td>SIN ACTIVIDAD</td>\n",
              "      <td>3</td>\n",
              "      <td>VERDADERO</td>\n",
              "      <td>FALSO</td>\n",
              "      <td>NaN</td>\n",
              "      <td>30</td>\n",
              "      <td>Región Metropolitana de Santiago</td>\n",
              "    </tr>\n",
              "    <tr>\n",
              "      <th>3</th>\n",
              "      <td>4</td>\n",
              "      <td>estudiante</td>\n",
              "      <td>2</td>\n",
              "      <td>VERDADERO</td>\n",
              "      <td>FALSO</td>\n",
              "      <td>NaN</td>\n",
              "      <td>25</td>\n",
              "      <td>Atacama</td>\n",
              "    </tr>\n",
              "    <tr>\n",
              "      <th>4</th>\n",
              "      <td>4</td>\n",
              "      <td>empleado</td>\n",
              "      <td>4</td>\n",
              "      <td>VERDADERO</td>\n",
              "      <td>FALSO</td>\n",
              "      <td>NaN</td>\n",
              "      <td>57</td>\n",
              "      <td>La Araucanía</td>\n",
              "    </tr>\n",
              "  </tbody>\n",
              "</table>\n",
              "</div>"
            ],
            "text/plain": [
              "   State     Profession  ...  Edad                           Region Pais\n",
              "0      4    Horticultor  ...    26  Libertador General Bernardo OHiggins\n",
              "1      4     estudiante  ...    18      Región Metropolitana de Santiago\n",
              "2      4  SIN ACTIVIDAD  ...    30      Región Metropolitana de Santiago\n",
              "3      4     estudiante  ...    25                               Atacama\n",
              "4      4       empleado  ...    57                          La Araucanía\n",
              "\n",
              "[5 rows x 8 columns]"
            ]
          },
          "metadata": {
            "tags": []
          },
          "execution_count": 58
        }
      ]
    },
    {
      "cell_type": "code",
      "metadata": {
        "colab": {
          "base_uri": "https://localhost:8080/",
          "height": 287
        },
        "id": "uYt_03eYA4WK",
        "outputId": "1af44f37-e644-4b29-f4f6-465cea600e69"
      },
      "source": [
        "df.describe()"
      ],
      "execution_count": 60,
      "outputs": [
        {
          "output_type": "execute_result",
          "data": {
            "text/html": [
              "<div>\n",
              "<style scoped>\n",
              "    .dataframe tbody tr th:only-of-type {\n",
              "        vertical-align: middle;\n",
              "    }\n",
              "\n",
              "    .dataframe tbody tr th {\n",
              "        vertical-align: top;\n",
              "    }\n",
              "\n",
              "    .dataframe thead th {\n",
              "        text-align: right;\n",
              "    }\n",
              "</style>\n",
              "<table border=\"1\" class=\"dataframe\">\n",
              "  <thead>\n",
              "    <tr style=\"text-align: right;\">\n",
              "      <th></th>\n",
              "      <th>State</th>\n",
              "      <th>Profesion Key</th>\n",
              "      <th>Edad</th>\n",
              "    </tr>\n",
              "  </thead>\n",
              "  <tbody>\n",
              "    <tr>\n",
              "      <th>count</th>\n",
              "      <td>28880.0</td>\n",
              "      <td>28880.000000</td>\n",
              "      <td>28880.000000</td>\n",
              "    </tr>\n",
              "    <tr>\n",
              "      <th>mean</th>\n",
              "      <td>4.0</td>\n",
              "      <td>562.830713</td>\n",
              "      <td>32.278670</td>\n",
              "    </tr>\n",
              "    <tr>\n",
              "      <th>std</th>\n",
              "      <td>0.0</td>\n",
              "      <td>1026.655293</td>\n",
              "      <td>11.893099</td>\n",
              "    </tr>\n",
              "    <tr>\n",
              "      <th>min</th>\n",
              "      <td>4.0</td>\n",
              "      <td>1.000000</td>\n",
              "      <td>18.000000</td>\n",
              "    </tr>\n",
              "    <tr>\n",
              "      <th>25%</th>\n",
              "      <td>4.0</td>\n",
              "      <td>8.000000</td>\n",
              "      <td>23.000000</td>\n",
              "    </tr>\n",
              "    <tr>\n",
              "      <th>50%</th>\n",
              "      <td>4.0</td>\n",
              "      <td>98.000000</td>\n",
              "      <td>29.000000</td>\n",
              "    </tr>\n",
              "    <tr>\n",
              "      <th>75%</th>\n",
              "      <td>4.0</td>\n",
              "      <td>463.000000</td>\n",
              "      <td>39.000000</td>\n",
              "    </tr>\n",
              "    <tr>\n",
              "      <th>max</th>\n",
              "      <td>4.0</td>\n",
              "      <td>4617.000000</td>\n",
              "      <td>120.000000</td>\n",
              "    </tr>\n",
              "  </tbody>\n",
              "</table>\n",
              "</div>"
            ],
            "text/plain": [
              "         State  Profesion Key          Edad\n",
              "count  28880.0   28880.000000  28880.000000\n",
              "mean       4.0     562.830713     32.278670\n",
              "std        0.0    1026.655293     11.893099\n",
              "min        4.0       1.000000     18.000000\n",
              "25%        4.0       8.000000     23.000000\n",
              "50%        4.0      98.000000     29.000000\n",
              "75%        4.0     463.000000     39.000000\n",
              "max        4.0    4617.000000    120.000000"
            ]
          },
          "metadata": {
            "tags": []
          },
          "execution_count": 60
        }
      ]
    },
    {
      "cell_type": "code",
      "metadata": {
        "colab": {
          "base_uri": "https://localhost:8080/"
        },
        "id": "bY9Qr_K0A8Gc",
        "outputId": "4d411222-c432-4a9c-e185-eab1966e22bc"
      },
      "source": [
        "df.isnull().sum()"
      ],
      "execution_count": 5,
      "outputs": [
        {
          "output_type": "execute_result",
          "data": {
            "text/plain": [
              "State                         0\n",
              "Profession                    0\n",
              "Profesion Key                 0\n",
              "Agree terms conditions        0\n",
              "Card Mastercard               0\n",
              "Source                    27042\n",
              "Edad                          0\n",
              "Region Pais                   0\n",
              "dtype: int64"
            ]
          },
          "metadata": {
            "tags": []
          },
          "execution_count": 5
        }
      ]
    },
    {
      "cell_type": "markdown",
      "metadata": {
        "id": "09FCAR3cBKlR"
      },
      "source": [
        "# Procesamiento de los datos"
      ]
    },
    {
      "cell_type": "code",
      "metadata": {
        "id": "_u_8hZ6kBPWO"
      },
      "source": [
        "df = df.drop(columns='Source')\r\n",
        "df = df.drop(columns='State')\r\n",
        "df = df.drop(columns='Profesion Key')\r\n",
        "df = df.drop(columns='Agree terms conditions')\r\n"
      ],
      "execution_count": 61,
      "outputs": []
    },
    {
      "cell_type": "code",
      "metadata": {
        "id": "2u2ZZeAg8JRp",
        "outputId": "59b92fbc-59db-4a01-fc17-b65db02f0e8a",
        "colab": {
          "base_uri": "https://localhost:8080/",
          "height": 461
        }
      },
      "source": [
        "result_b = df['State'].value_counts().reset_index().head(10)\r\n",
        "x_axis = result_b['index']\r\n",
        "y_axis = result_b['State']\r\n",
        "\r\n",
        "\r\n",
        "\r\n",
        "plt.figure(figsize = (6,6))\r\n",
        "sns.set_color_codes(\"pastel\")\r\n",
        "sns.set_color_codes(\"muted\")\r\n",
        "g=sns.barplot(x_axis, y_axis, color='#66b3ff')\r\n",
        "ax=g\r\n",
        "plt.title('Tipo de Estados', fontsize = 16)\r\n",
        "\r\n",
        "#annotate axis = seaborn axis\r\n",
        "for p in ax.patches:\r\n",
        "             ax.annotate(\"%.2f\" % p.get_height(), (p.get_x() + p.get_width() / 2., p.get_height()),\r\n",
        "                 ha='center', va='center', fontsize=11, color='black', xytext=(0, 20),\r\n",
        "                 textcoords='offset points')\r\n",
        "_ = g.set_ylim(0,35000)\r\n",
        "plt.xlabel('Tipo de State')\r\n",
        "plt.ylabel('Cantidad')\r\n",
        "sns.despine(left=True, bottom=True)"
      ],
      "execution_count": 41,
      "outputs": [
        {
          "output_type": "stream",
          "text": [
            "/usr/local/lib/python3.6/dist-packages/seaborn/_decorators.py:43: FutureWarning: Pass the following variables as keyword args: x, y. From version 0.12, the only valid positional argument will be `data`, and passing other arguments without an explicit keyword will result in an error or misinterpretation.\n",
            "  FutureWarning\n"
          ],
          "name": "stderr"
        },
        {
          "output_type": "display_data",
          "data": {
            "image/png": "[encoded data removed]",
            "text/plain": [
              "<Figure size 432x432 with 1 Axes>"
            ]
          },
          "metadata": {
            "tags": [],
            "needs_background": "light"
          }
        }
      ]
    },
    {
      "cell_type": "code",
      "metadata": {
        "id": "SbHLo1089wYn",
        "outputId": "e68445f1-c0cf-4886-b1e9-8ff56443ae4f",
        "colab": {
          "base_uri": "https://localhost:8080/",
          "height": 461
        }
      },
      "source": [
        "result_b = df['Agree terms conditions'].value_counts().reset_index().head(10)\r\n",
        "x_axis = result_b['index']\r\n",
        "y_axis = result_b['Agree terms conditions']\r\n",
        "\r\n",
        "\r\n",
        "\r\n",
        "plt.figure(figsize = (6,6))\r\n",
        "sns.set_color_codes(\"pastel\")\r\n",
        "sns.set_color_codes(\"muted\")\r\n",
        "g=sns.barplot(x_axis, y_axis, color='#66b3ff')\r\n",
        "ax=g\r\n",
        "plt.title('\"Agree terms Conditions\" ', fontsize = 16)\r\n",
        "\r\n",
        "#annotate axis = seaborn axis\r\n",
        "for p in ax.patches:\r\n",
        "             ax.annotate(\"%.2f\" % p.get_height(), (p.get_x() + p.get_width() / 2., p.get_height()),\r\n",
        "                 ha='center', va='center', fontsize=11, color='black', xytext=(0, 20),\r\n",
        "                 textcoords='offset points')\r\n",
        "_ = g.set_ylim(0,35000)\r\n",
        "plt.xlabel('Categorias')\r\n",
        "plt.ylabel('Cantidad')\r\n",
        "sns.despine(left=True, bottom=True)"
      ],
      "execution_count": 42,
      "outputs": [
        {
          "output_type": "stream",
          "text": [
            "/usr/local/lib/python3.6/dist-packages/seaborn/_decorators.py:43: FutureWarning: Pass the following variables as keyword args: x, y. From version 0.12, the only valid positional argument will be `data`, and passing other arguments without an explicit keyword will result in an error or misinterpretation.\n",
            "  FutureWarning\n"
          ],
          "name": "stderr"
        },
        {
          "output_type": "display_data",
          "data": {
            "image/png": "[encoded data removed]",
            "text/plain": [
              "<Figure size 432x432 with 1 Axes>"
            ]
          },
          "metadata": {
            "tags": [],
            "needs_background": "light"
          }
        }
      ]
    },
    {
      "cell_type": "code",
      "metadata": {
        "colab": {
          "base_uri": "https://localhost:8080/",
          "height": 475
        },
        "id": "6T9lzjmNBonP",
        "outputId": "f60d5523-c59d-4de8-eaad-0943eb2c223b"
      },
      "source": [
        "df['Profession'] = df['Profession'].apply(lambda x: x.lower())\r\n",
        "df_profesion = df['Profession'].value_counts().reset_index().head(10)\r\n",
        "\r\n",
        "#plt.figure(figsize = (6,6))\r\n",
        "#sns.barplot(data = df_profesion, y ='index', x ='Profession', color = 'b')\r\n",
        "#plt.title('Top 10 Principales Trabajos de las personas', fontsize = 16)\r\n",
        "#sns.despine(left=True, bottom=True)\r\n",
        "#plt.xlabel('Profesion')\r\n",
        "#plt.ylabel('Cantidad')\r\n",
        "#plt.xticks(rotation=90)\r\n",
        "\r\n",
        "\r\n",
        "result_b = df['Profession'].value_counts().reset_index().head(10)\r\n",
        "x_axis = result_b['index']\r\n",
        "y_axis = result_b['Profession']\r\n",
        "\r\n",
        "\r\n",
        "\r\n",
        "plt.figure(figsize = (8,6))\r\n",
        "sns.set_color_codes(\"pastel\")\r\n",
        "sns.set_color_codes(\"muted\")\r\n",
        "g=sns.barplot(data =result_b , x = x_axis, y = y_axis, color='#66b3ff')\r\n",
        "ax=g\r\n",
        "plt.title('Top 10 Principales Trabajos de las personas', fontsize = 16)\r\n",
        "\r\n",
        "#annotate axis = seaborn axis\r\n",
        "for p in ax.patches:\r\n",
        "             ax.annotate(\"%.2f\" % p.get_height(), (p.get_x() + p.get_width() / 2., p.get_height()),\r\n",
        "                 ha='center', va='center', fontsize=11, color='black', xytext=(0, 20),\r\n",
        "                 textcoords='offset points')\r\n",
        "_ = g.set_ylim(0,7000)\r\n",
        "plt.xlabel('Categorias')\r\n",
        "plt.xticks(rotation=90)\r\n",
        "plt.ylabel('Cantidad')\r\n",
        "sns.despine(left=True, bottom=True)\r\n"
      ],
      "execution_count": 62,
      "outputs": [
        {
          "output_type": "display_data",
          "data": {
            "image/png": "[encoded data removed]",
            "text/plain": [
              "<Figure size 576x432 with 1 Axes>"
            ]
          },
          "metadata": {
            "tags": [],
            "needs_background": "light"
          }
        }
      ]
    },
    {
      "cell_type": "code",
      "metadata": {
        "id": "YJ74yatTFkh3",
        "outputId": "9080c46d-5a39-4f81-8dfc-deee52249e61",
        "colab": {
          "base_uri": "https://localhost:8080/"
        }
      },
      "source": [
        "df.shape[0]"
      ],
      "execution_count": 63,
      "outputs": [
        {
          "output_type": "execute_result",
          "data": {
            "text/plain": [
              "28880"
            ]
          },
          "metadata": {
            "tags": []
          },
          "execution_count": 63
        }
      ]
    },
    {
      "cell_type": "code",
      "metadata": {
        "id": "YqLVcTbaCIzw"
      },
      "source": [
        "#grupo 1: Estudiantes\r\n",
        "\r\n",
        "estudiantes = np.unique(list(df[df['Profession'].str.match('^estu.*')== True]['Profession']))\r\n",
        "\r\n",
        "estudiante = ['madre soltera y estudiante']\r\n",
        "#Grupo 2: Asesora del Hogar\r\n",
        "\r\n",
        "dueña_casa = ['due?±a de casa' ,'ama de casa', 'due?±a casa', 'casa','nana de la casa', 'nana','nano','ama dd casa',\r\n",
        "             'duena se casa','duesa de casa','due?±o de ogar', 'due?±a de caaa','due?±a de cass','due?ëo de casa',\r\n",
        "             'ama de casa y trabajadora', 'due?±a de casa cuidando a mi beb?©', 'hogar', 'casa']\r\n",
        "\r\n",
        "#Grupo 3: Desempleo\r\n",
        "\r\n",
        "desempleo  = ['sin actividad', 'sin empleo', 'sin enpleo','sin ocupaci??n',\r\n",
        "       'sin ocupacion', 'sin ocupaciones', 'sin oficio', 'sin ofu',\r\n",
        "       'sin profecion', 'sin profesion', 'sin trabaj??', 'sin trabajo',\r\n",
        "       'sin trabajo actualmente', 'sin trabajo ayuden', 'sin vocacion',\r\n",
        "       'desempl', 'desempleada', 'desempleado', 'desempleo',\r\n",
        "       'desenpkeado', 'desenpleada', 'desenpleado','cesante']\r\n",
        "\r\n",
        "#Grupo 4: informacion erronea.\r\n",
        "\r\n",
        "sin_informacion = ['sin informaci??n','nada', 'nada','nada de momento', 'nada por el momento', 'nadaa'\r\n",
        "                  'no aplica', 'mm piping', '?±i?±os', 'dkdjjffn', 'uy curiosos', 'nnnnnnnnnnnnn' , 'trabajo']"
      ],
      "execution_count": 6,
      "outputs": []
    },
    {
      "cell_type": "code",
      "metadata": {
        "colab": {
          "base_uri": "https://localhost:8080/",
          "height": 197
        },
        "id": "_Hg7TF8aCNya",
        "outputId": "e79294a6-2c79-4a13-ed15-b25aa5a00913"
      },
      "source": [
        "def profesion_agrupacion(df):\r\n",
        "    df['Profesion_agrupacion'] = ''\r\n",
        "    \r\n",
        "    conteo= 0\r\n",
        "    for i in df['Profession']:\r\n",
        "        if i in estudiantes:\r\n",
        "            df.iloc[conteo,4] = 'Estudiante'\r\n",
        "        elif i in dueña_casa:\r\n",
        "            df.iloc[conteo,4] = 'Dueña de casa'\r\n",
        "        elif i in desempleo:\r\n",
        "            df.iloc[conteo,4] = 'Desempleado/a'\r\n",
        "        elif i in sin_informacion:\r\n",
        "            df.iloc[conteo,4] = 'Sin informacion'\r\n",
        "        else:\r\n",
        "            df.iloc[conteo,4] = 'Trabajo informado'\r\n",
        "        conteo = conteo +1 \r\n",
        "profesion_agrupacion(df)\r\n",
        "df = df.drop(columns='Profession')\r\n",
        "df.head()"
      ],
      "execution_count": 64,
      "outputs": [
        {
          "output_type": "execute_result",
          "data": {
            "text/html": [
              "<div>\n",
              "<style scoped>\n",
              "    .dataframe tbody tr th:only-of-type {\n",
              "        vertical-align: middle;\n",
              "    }\n",
              "\n",
              "    .dataframe tbody tr th {\n",
              "        vertical-align: top;\n",
              "    }\n",
              "\n",
              "    .dataframe thead th {\n",
              "        text-align: right;\n",
              "    }\n",
              "</style>\n",
              "<table border=\"1\" class=\"dataframe\">\n",
              "  <thead>\n",
              "    <tr style=\"text-align: right;\">\n",
              "      <th></th>\n",
              "      <th>Card Mastercard</th>\n",
              "      <th>Edad</th>\n",
              "      <th>Region Pais</th>\n",
              "      <th>Profesion_agrupacion</th>\n",
              "    </tr>\n",
              "  </thead>\n",
              "  <tbody>\n",
              "    <tr>\n",
              "      <th>0</th>\n",
              "      <td>FALSO</td>\n",
              "      <td>26</td>\n",
              "      <td>Libertador General Bernardo OHiggins</td>\n",
              "      <td>Trabajo informado</td>\n",
              "    </tr>\n",
              "    <tr>\n",
              "      <th>1</th>\n",
              "      <td>VERDADERO</td>\n",
              "      <td>18</td>\n",
              "      <td>Región Metropolitana de Santiago</td>\n",
              "      <td>Estudiante</td>\n",
              "    </tr>\n",
              "    <tr>\n",
              "      <th>2</th>\n",
              "      <td>FALSO</td>\n",
              "      <td>30</td>\n",
              "      <td>Región Metropolitana de Santiago</td>\n",
              "      <td>Desempleado/a</td>\n",
              "    </tr>\n",
              "    <tr>\n",
              "      <th>3</th>\n",
              "      <td>FALSO</td>\n",
              "      <td>25</td>\n",
              "      <td>Atacama</td>\n",
              "      <td>Estudiante</td>\n",
              "    </tr>\n",
              "    <tr>\n",
              "      <th>4</th>\n",
              "      <td>FALSO</td>\n",
              "      <td>57</td>\n",
              "      <td>La Araucanía</td>\n",
              "      <td>Trabajo informado</td>\n",
              "    </tr>\n",
              "  </tbody>\n",
              "</table>\n",
              "</div>"
            ],
            "text/plain": [
              "  Card Mastercard  ...  Profesion_agrupacion\n",
              "0           FALSO  ...     Trabajo informado\n",
              "1       VERDADERO  ...            Estudiante\n",
              "2           FALSO  ...         Desempleado/a\n",
              "3           FALSO  ...            Estudiante\n",
              "4           FALSO  ...     Trabajo informado\n",
              "\n",
              "[5 rows x 4 columns]"
            ]
          },
          "metadata": {
            "tags": []
          },
          "execution_count": 64
        }
      ]
    },
    {
      "cell_type": "code",
      "metadata": {
        "id": "wT-wVxlSeimw",
        "outputId": "ba2b960c-551a-4ae5-b0e2-8cbc03359baf",
        "colab": {
          "base_uri": "https://localhost:8080/"
        }
      },
      "source": [
        "df.shape[0]"
      ],
      "execution_count": 68,
      "outputs": [
        {
          "output_type": "execute_result",
          "data": {
            "text/plain": [
              "28524"
            ]
          },
          "metadata": {
            "tags": []
          },
          "execution_count": 68
        }
      ]
    },
    {
      "cell_type": "code",
      "metadata": {
        "colab": {
          "base_uri": "https://localhost:8080/",
          "height": 485
        },
        "id": "pdMhQ891Eciz",
        "outputId": "79b0747f-b8fc-4830-db71-86cd28cc4d74"
      },
      "source": [
        "df = df.loc[df['Profesion_agrupacion'] != 'Sin informacion']\r\n",
        "df_profesion_agrupacion = df['Profesion_agrupacion'].value_counts().reset_index().head(10)\r\n",
        "\r\n",
        "#result_b = df['Profession'].value_counts().reset_index().head(10)\r\n",
        "x_axis = df_profesion_agrupacion['index']\r\n",
        "y_axis = df_profesion_agrupacion['Profesion_agrupacion']\r\n",
        "\r\n",
        "\r\n",
        "\r\n",
        "plt.figure(figsize = (8,6))\r\n",
        "sns.set_color_codes(\"pastel\")\r\n",
        "sns.set_color_codes(\"muted\")\r\n",
        "g=sns.barplot(data =df_profesion_agrupacion , x = x_axis, y = y_axis, color='#66b3ff')\r\n",
        "ax=g\r\n",
        "plt.title('Distribucion variable \"Profesion_agrupacion\"', fontsize = 16)\r\n",
        "\r\n",
        "#annotate axis = seaborn axis\r\n",
        "for p in ax.patches:\r\n",
        "             ax.annotate(\"%.2f\" % p.get_height(), (p.get_x() + p.get_width() / 2., p.get_height()),\r\n",
        "                 ha='center', va='center', fontsize=11, color='black', xytext=(0, 20),\r\n",
        "                 textcoords='offset points')\r\n",
        "_ = g.set_ylim(0,29000)\r\n",
        "plt.xlabel('Categorias')\r\n",
        "plt.xticks(rotation=90)\r\n",
        "plt.ylabel('Cantidad')\r\n",
        "sns.despine(left=True, bottom=True)"
      ],
      "execution_count": 66,
      "outputs": [
        {
          "output_type": "display_data",
          "data": {
            "image/png": "[encoded data removed]",
            "text/plain": [
              "<Figure size 576x432 with 1 Axes>"
            ]
          },
          "metadata": {
            "tags": [],
            "needs_background": "light"
          }
        }
      ]
    },
    {
      "cell_type": "code",
      "metadata": {
        "colab": {
          "base_uri": "https://localhost:8080/",
          "height": 461
        },
        "id": "kpr8ZD3BEAcj",
        "outputId": "c90143c4-e541-4b6f-e063-c4183d70ce56"
      },
      "source": [
        "#Edad\r\n",
        "plt.figure(figsize = (8,6))\r\n",
        "sns.distplot(df['Edad'], kde = False, bins = 30)\r\n",
        "plt.title('Distribucion de la variable Edad', fontsize = 16)\r\n",
        "sns.despine(left=True, bottom=True)"
      ],
      "execution_count": 47,
      "outputs": [
        {
          "output_type": "stream",
          "text": [
            "/usr/local/lib/python3.6/dist-packages/seaborn/distributions.py:2551: FutureWarning: `distplot` is a deprecated function and will be removed in a future version. Please adapt your code to use either `displot` (a figure-level function with similar flexibility) or `histplot` (an axes-level function for histograms).\n",
            "  warnings.warn(msg, FutureWarning)\n"
          ],
          "name": "stderr"
        },
        {
          "output_type": "display_data",
          "data": {
            "image/png": "[encoded data removed]",
            "text/plain": [
              "<Figure size 576x432 with 1 Axes>"
            ]
          },
          "metadata": {
            "tags": [],
            "needs_background": "light"
          }
        }
      ]
    },
    {
      "cell_type": "code",
      "metadata": {
        "colab": {
          "base_uri": "https://localhost:8080/",
          "height": 356
        },
        "id": "NhAghCzfEHAR",
        "outputId": "ff3af715-e8c7-48d3-d024-8af893db0418"
      },
      "source": [
        "plt.figure(figsize = (8,6))\r\n",
        "sns.boxplot(y = 'Edad',data = df)\r\n",
        "sns.despine(left=True, bottom=True)"
      ],
      "execution_count": 29,
      "outputs": [
        {
          "output_type": "display_data",
          "data": {
            "image/png": "[encoded data removed]",
            "text/plain": [
              "<Figure size 576x432 with 1 Axes>"
            ]
          },
          "metadata": {
            "tags": [],
            "needs_background": "light"
          }
        }
      ]
    },
    {
      "cell_type": "code",
      "metadata": {
        "colab": {
          "base_uri": "https://localhost:8080/",
          "height": 378
        },
        "id": "sXc_q9pfEJ_O",
        "outputId": "d4e03fb4-d079-463f-e0ce-6d6456292294"
      },
      "source": [
        "df = df.loc[df['Edad'] < 100]\r\n",
        "plt.figure(figsize = (8,6))\r\n",
        "sns.boxplot(y = 'Edad',data = df)"
      ],
      "execution_count": 69,
      "outputs": [
        {
          "output_type": "execute_result",
          "data": {
            "text/plain": [
              "<matplotlib.axes._subplots.AxesSubplot at 0x7f2338c11c50>"
            ]
          },
          "metadata": {
            "tags": []
          },
          "execution_count": 69
        },
        {
          "output_type": "display_data",
          "data": {
            "image/png": "[encoded data removed]",
            "text/plain": [
              "<Figure size 576x432 with 1 Axes>"
            ]
          },
          "metadata": {
            "tags": [],
            "needs_background": "light"
          }
        }
      ]
    },
    {
      "cell_type": "code",
      "metadata": {
        "colab": {
          "base_uri": "https://localhost:8080/",
          "height": 476
        },
        "id": "dKhWLfdrER8V",
        "outputId": "0f39ca48-ba38-404c-b926-2a4101c559e1"
      },
      "source": [
        "#MasterCard\r\n",
        "\r\n",
        "df_mastercard = df['Card Mastercard'].value_counts().reset_index().head(10)\r\n",
        "\r\n",
        "plt.figure(figsize = (6,6))\r\n",
        "sns.barplot(data = df_mastercard, x ='index', y ='Card Mastercard', color = 'b')\r\n",
        "plt.title('MasterCard', fontsize = 16)\r\n",
        "sns.despine(left=True, bottom=True)\r\n",
        "plt.xlabel('Tipo de State')\r\n",
        "plt.ylabel('Cantidad')\r\n",
        "plt.xticks(rotation=90)\r\n"
      ],
      "execution_count": 11,
      "outputs": [
        {
          "output_type": "execute_result",
          "data": {
            "text/plain": [
              "(array([0, 1]), <a list of 2 Text major ticklabel objects>)"
            ]
          },
          "metadata": {
            "tags": []
          },
          "execution_count": 11
        },
        {
          "output_type": "display_data",
          "data": {
            "image/png": "[encoded data removed]",
            "text/plain": [
              "<Figure size 432x432 with 1 Axes>"
            ]
          },
          "metadata": {
            "tags": [],
            "needs_background": "light"
          }
        }
      ]
    },
    {
      "cell_type": "code",
      "metadata": {
        "colab": {
          "base_uri": "https://localhost:8080/",
          "height": 405
        },
        "id": "KVXv1jMgGV8o",
        "outputId": "666c4515-26b2-47f7-b2dd-fa7158a28b26"
      },
      "source": [
        "#Region Pais\r\n",
        "\r\n",
        "df_region = df['Region Pais'].value_counts().reset_index()\r\n",
        "\r\n",
        "plt.figure(figsize = (6,6))\r\n",
        "sns.barplot(data = df_region, y ='index', x ='Region Pais', color = 'b')\r\n",
        "\r\n",
        "plt.ylabel('Region')\r\n",
        "plt.xlabel('Cantidad')\r\n",
        "\r\n",
        "plt.title('Cantidad de clientes por ciudad', fontsize = 16)\r\n",
        "sns.despine(left=True, bottom=True)"
      ],
      "execution_count": 12,
      "outputs": [
        {
          "output_type": "display_data",
          "data": {
            "image/png": "[encoded data removed]",
            "text/plain": [
              "<Figure size 432x432 with 1 Axes>"
            ]
          },
          "metadata": {
            "tags": [],
            "needs_background": "light"
          }
        }
      ]
    },
    {
      "cell_type": "code",
      "metadata": {
        "colab": {
          "base_uri": "https://localhost:8080/",
          "height": 423
        },
        "id": "nUjzU1OAGti8",
        "outputId": "89a48867-537b-4193-d37e-5f00f1eaf3e5"
      },
      "source": [
        "df = df.loc[df['Region Pais'] != 'Chile']\r\n",
        "\r\n",
        "def region(x):\r\n",
        "   if  x == 'Región Metropolitana de Santiago':\r\n",
        "       return 'Santiago'\r\n",
        "   else:\r\n",
        "       return 'No Santiago'\r\n",
        "\r\n",
        "df['Region Pais'] = df['Region Pais'].apply(lambda x : region(x))\r\n",
        "\r\n",
        "df_region = df['Region Pais'].value_counts().reset_index()\r\n",
        "\r\n",
        "plt.figure(figsize = (6,6))\r\n",
        "sns.barplot(data = df_region, x ='index', y ='Region Pais', color = 'b')\r\n",
        "\r\n",
        "plt.title('Cantidad de personas por ciudad', fontsize = 16)\r\n",
        "sns.despine(left=True, bottom=True)\r\n",
        "\r\n",
        "plt.xlabel('Region')"
      ],
      "execution_count": 70,
      "outputs": [
        {
          "output_type": "execute_result",
          "data": {
            "text/plain": [
              "Text(0.5, 0, 'Region')"
            ]
          },
          "metadata": {
            "tags": []
          },
          "execution_count": 70
        },
        {
          "output_type": "display_data",
          "data": {
            "image/png": "[encoded data removed]",
            "text/plain": [
              "<Figure size 432x432 with 1 Axes>"
            ]
          },
          "metadata": {
            "tags": [],
            "needs_background": "light"
          }
        }
      ]
    },
    {
      "cell_type": "code",
      "metadata": {
        "id": "oQCz-9UkfOaU",
        "outputId": "8aca80d0-6a81-4934-8e88-228a76ba5f3a",
        "colab": {
          "base_uri": "https://localhost:8080/"
        }
      },
      "source": [
        "df.shape[0]"
      ],
      "execution_count": 71,
      "outputs": [
        {
          "output_type": "execute_result",
          "data": {
            "text/plain": [
              "28484"
            ]
          },
          "metadata": {
            "tags": []
          },
          "execution_count": 71
        }
      ]
    },
    {
      "cell_type": "markdown",
      "metadata": {
        "id": "OZcfZ3s3IXnS"
      },
      "source": [
        "## Analisis Multi-Variado"
      ]
    },
    {
      "cell_type": "code",
      "metadata": {
        "colab": {
          "base_uri": "https://localhost:8080/",
          "height": 296
        },
        "id": "KM_AikK0Ia9V",
        "outputId": "d40f9e8e-5142-4cbb-da0a-5124858ea83b"
      },
      "source": [
        "df['Edad'] = df['Edad'].apply(lambda x: int(x))\r\n",
        "\r\n",
        "df_promedio = df[['Profesion_agrupacion','Edad']].groupby('Profesion_agrupacion').mean().reset_index()\r\n",
        "\r\n",
        "g = sns.barplot(data = df_promedio, x = 'Profesion_agrupacion', y = 'Edad', color = 'b')\r\n",
        "\r\n",
        "ax=g\r\n",
        "#annotate axis = seaborn axis\r\n",
        "for p in ax.patches:\r\n",
        "             ax.annotate(\"%.2f\" % p.get_height(), (p.get_x() + p.get_width() / 2., p.get_height()),\r\n",
        "                 ha='center', va='center', fontsize=11, color='black', xytext=(0, 20),\r\n",
        "                 textcoords='offset points')\r\n",
        "_ = g.set_ylim(0,90)\r\n",
        "\r\n",
        "plt.ylabel('Promedio de Edad')\r\n",
        "plt.xlabel('Categoria Profesion')\r\n",
        "\r\n",
        "\r\n",
        "plt.title('Edad Promedio por Categoria', fontsize = 16)\r\n",
        "sns.despine(left=True, bottom=True)"
      ],
      "execution_count": 53,
      "outputs": [
        {
          "output_type": "display_data",
          "data": {
            "image/png": "[encoded data removed]",
            "text/plain": [
              "<Figure size 432x288 with 1 Axes>"
            ]
          },
          "metadata": {
            "tags": [],
            "needs_background": "light"
          }
        }
      ]
    },
    {
      "cell_type": "code",
      "metadata": {
        "colab": {
          "base_uri": "https://localhost:8080/",
          "height": 297
        },
        "id": "3dn4ANDaH00s",
        "outputId": "9fd4e14c-3b80-4053-abab-c5d308b14f34"
      },
      "source": [
        "\r\n",
        "df_card = df.groupby(['Profesion_agrupacion','Card Mastercard']).count()['Edad'].reset_index()\r\n",
        "\r\n",
        "sns.barplot(data = df_card, x = 'Profesion_agrupacion', y = 'Edad' , hue =  'Card Mastercard')\r\n",
        "plt.title('Acceso a MasterCard por Categoria', fontsize = 16)\r\n",
        "sns.despine(left=True, bottom=True)"
      ],
      "execution_count": 96,
      "outputs": [
        {
          "output_type": "display_data",
          "data": {
            "image/png": "[encoded data removed]",
            "text/plain": [
              "<Figure size 432x288 with 1 Axes>"
            ]
          },
          "metadata": {
            "tags": [],
            "needs_background": "light"
          }
        }
      ]
    },
    {
      "cell_type": "code",
      "metadata": {
        "colab": {
          "base_uri": "https://localhost:8080/",
          "height": 314
        },
        "id": "tv_zMpn3JDLI",
        "outputId": "e6e946f0-43d0-4e41-ac24-b300d026c05b"
      },
      "source": [
        "df_region = df.groupby(['Profesion_agrupacion','Region Pais']).count()['Edad'].reset_index()\r\n",
        "\r\n",
        "sns.barplot(data = df_region, x = 'Profesion_agrupacion', y = 'Edad' , hue =  'Region Pais')\r\n",
        "plt.title('Ubicacion de las personas por Categoria', fontsize = 16)\r\n",
        "sns.despine(left=True, bottom=True)\r\n",
        "\r\n",
        "plt.ylabel('Cantidad')\r\n",
        "plt.xlabel('Categoria Profesion')"
      ],
      "execution_count": 55,
      "outputs": [
        {
          "output_type": "execute_result",
          "data": {
            "text/plain": [
              "Text(0.5, 0, 'Categoria Profesion')"
            ]
          },
          "metadata": {
            "tags": []
          },
          "execution_count": 55
        },
        {
          "output_type": "display_data",
          "data": {
            "image/png": "[encoded data removed]",
            "text/plain": [
              "<Figure size 432x288 with 1 Axes>"
            ]
          },
          "metadata": {
            "tags": [],
            "needs_background": "light"
          }
        }
      ]
    },
    {
      "cell_type": "markdown",
      "metadata": {
        "id": "Dnj_KM2NKZsC"
      },
      "source": [
        "## Columnas Dummy"
      ]
    },
    {
      "cell_type": "code",
      "metadata": {
        "colab": {
          "base_uri": "https://localhost:8080/",
          "height": 197
        },
        "id": "-NUahLuRO8DI",
        "outputId": "de831b6a-4f96-4d79-b40d-ec5cc57e8a54"
      },
      "source": [
        "df_dummy = df.copy()\r\n",
        "df_dummy.head()"
      ],
      "execution_count": 73,
      "outputs": [
        {
          "output_type": "execute_result",
          "data": {
            "text/html": [
              "<div>\n",
              "<style scoped>\n",
              "    .dataframe tbody tr th:only-of-type {\n",
              "        vertical-align: middle;\n",
              "    }\n",
              "\n",
              "    .dataframe tbody tr th {\n",
              "        vertical-align: top;\n",
              "    }\n",
              "\n",
              "    .dataframe thead th {\n",
              "        text-align: right;\n",
              "    }\n",
              "</style>\n",
              "<table border=\"1\" class=\"dataframe\">\n",
              "  <thead>\n",
              "    <tr style=\"text-align: right;\">\n",
              "      <th></th>\n",
              "      <th>Card Mastercard</th>\n",
              "      <th>Edad</th>\n",
              "      <th>Region Pais</th>\n",
              "      <th>Profesion_agrupacion</th>\n",
              "    </tr>\n",
              "  </thead>\n",
              "  <tbody>\n",
              "    <tr>\n",
              "      <th>0</th>\n",
              "      <td>FALSO</td>\n",
              "      <td>26</td>\n",
              "      <td>No Santiago</td>\n",
              "      <td>Trabajo informado</td>\n",
              "    </tr>\n",
              "    <tr>\n",
              "      <th>1</th>\n",
              "      <td>VERDADERO</td>\n",
              "      <td>18</td>\n",
              "      <td>Santiago</td>\n",
              "      <td>Estudiante</td>\n",
              "    </tr>\n",
              "    <tr>\n",
              "      <th>2</th>\n",
              "      <td>FALSO</td>\n",
              "      <td>30</td>\n",
              "      <td>Santiago</td>\n",
              "      <td>Desempleado/a</td>\n",
              "    </tr>\n",
              "    <tr>\n",
              "      <th>3</th>\n",
              "      <td>FALSO</td>\n",
              "      <td>25</td>\n",
              "      <td>No Santiago</td>\n",
              "      <td>Estudiante</td>\n",
              "    </tr>\n",
              "    <tr>\n",
              "      <th>4</th>\n",
              "      <td>FALSO</td>\n",
              "      <td>57</td>\n",
              "      <td>No Santiago</td>\n",
              "      <td>Trabajo informado</td>\n",
              "    </tr>\n",
              "  </tbody>\n",
              "</table>\n",
              "</div>"
            ],
            "text/plain": [
              "  Card Mastercard  Edad  Region Pais Profesion_agrupacion\n",
              "0           FALSO    26  No Santiago    Trabajo informado\n",
              "1       VERDADERO    18     Santiago           Estudiante\n",
              "2           FALSO    30     Santiago        Desempleado/a\n",
              "3           FALSO    25  No Santiago           Estudiante\n",
              "4           FALSO    57  No Santiago    Trabajo informado"
            ]
          },
          "metadata": {
            "tags": []
          },
          "execution_count": 73
        }
      ]
    },
    {
      "cell_type": "code",
      "metadata": {
        "id": "-CVfPhytKbrv"
      },
      "source": [
        "def dummies(df_dummy):\r\n",
        "  df_dummy = pd.get_dummies(df_dummy, columns=['Card Mastercard'])\r\n",
        "  df_dummy = df_dummy.drop(columns='Card Mastercard_FALSO')\r\n",
        "\r\n",
        "  df_dummy = pd.get_dummies(df_dummy, columns=['Profesion_agrupacion'])\r\n",
        "  df_dummy = df_dummy.drop(columns='Profesion_agrupacion_Desempleado/a')\r\n",
        "\r\n",
        "  df_dummy = pd.get_dummies(df_dummy, columns=['Region Pais'])\r\n",
        "  df_dummy = df_dummy.drop(columns='Region Pais_No Santiago')\r\n",
        "  \r\n",
        "  return df_dummy\r\n",
        "\r\n",
        "df_dummy = dummies(df_dummy)"
      ],
      "execution_count": 74,
      "outputs": []
    },
    {
      "cell_type": "code",
      "metadata": {
        "colab": {
          "base_uri": "https://localhost:8080/",
          "height": 214
        },
        "id": "YOMHXO-EPUpw",
        "outputId": "2c312501-3caf-4570-be6d-b3b9f1c032db"
      },
      "source": [
        "df_dummy.head()"
      ],
      "execution_count": 75,
      "outputs": [
        {
          "output_type": "execute_result",
          "data": {
            "text/html": [
              "<div>\n",
              "<style scoped>\n",
              "    .dataframe tbody tr th:only-of-type {\n",
              "        vertical-align: middle;\n",
              "    }\n",
              "\n",
              "    .dataframe tbody tr th {\n",
              "        vertical-align: top;\n",
              "    }\n",
              "\n",
              "    .dataframe thead th {\n",
              "        text-align: right;\n",
              "    }\n",
              "</style>\n",
              "<table border=\"1\" class=\"dataframe\">\n",
              "  <thead>\n",
              "    <tr style=\"text-align: right;\">\n",
              "      <th></th>\n",
              "      <th>Edad</th>\n",
              "      <th>Card Mastercard_VERDADERO</th>\n",
              "      <th>Profesion_agrupacion_Dueña de casa</th>\n",
              "      <th>Profesion_agrupacion_Estudiante</th>\n",
              "      <th>Profesion_agrupacion_Trabajo informado</th>\n",
              "      <th>Region Pais_Santiago</th>\n",
              "    </tr>\n",
              "  </thead>\n",
              "  <tbody>\n",
              "    <tr>\n",
              "      <th>0</th>\n",
              "      <td>26</td>\n",
              "      <td>0</td>\n",
              "      <td>0</td>\n",
              "      <td>0</td>\n",
              "      <td>1</td>\n",
              "      <td>0</td>\n",
              "    </tr>\n",
              "    <tr>\n",
              "      <th>1</th>\n",
              "      <td>18</td>\n",
              "      <td>1</td>\n",
              "      <td>0</td>\n",
              "      <td>1</td>\n",
              "      <td>0</td>\n",
              "      <td>1</td>\n",
              "    </tr>\n",
              "    <tr>\n",
              "      <th>2</th>\n",
              "      <td>30</td>\n",
              "      <td>0</td>\n",
              "      <td>0</td>\n",
              "      <td>0</td>\n",
              "      <td>0</td>\n",
              "      <td>1</td>\n",
              "    </tr>\n",
              "    <tr>\n",
              "      <th>3</th>\n",
              "      <td>25</td>\n",
              "      <td>0</td>\n",
              "      <td>0</td>\n",
              "      <td>1</td>\n",
              "      <td>0</td>\n",
              "      <td>0</td>\n",
              "    </tr>\n",
              "    <tr>\n",
              "      <th>4</th>\n",
              "      <td>57</td>\n",
              "      <td>0</td>\n",
              "      <td>0</td>\n",
              "      <td>0</td>\n",
              "      <td>1</td>\n",
              "      <td>0</td>\n",
              "    </tr>\n",
              "  </tbody>\n",
              "</table>\n",
              "</div>"
            ],
            "text/plain": [
              "   Edad  ...  Region Pais_Santiago\n",
              "0    26  ...                     0\n",
              "1    18  ...                     1\n",
              "2    30  ...                     1\n",
              "3    25  ...                     0\n",
              "4    57  ...                     0\n",
              "\n",
              "[5 rows x 6 columns]"
            ]
          },
          "metadata": {
            "tags": []
          },
          "execution_count": 75
        }
      ]
    },
    {
      "cell_type": "markdown",
      "metadata": {
        "id": "0NZywObKLdah"
      },
      "source": [
        "# Clustering"
      ]
    },
    {
      "cell_type": "code",
      "metadata": {
        "id": "rXoHaiUNLgyj"
      },
      "source": [
        "from sklearn.cluster import KMeans\r\n",
        "\r\n",
        "import pandas as pd\r\n",
        "import numpy as np\r\n",
        "import matplotlib.pyplot as plt\r\n",
        "%matplotlib inline\r\n",
        "import seaborn as sns\r\n",
        "import sklearn\r\n",
        "from sklearn.preprocessing import StandardScaler\r\n",
        "from sklearn.cluster import KMeans\r\n",
        "from sklearn import metrics\r\n",
        "from sklearn.cluster import AgglomerativeClustering"
      ],
      "execution_count": 17,
      "outputs": []
    },
    {
      "cell_type": "code",
      "metadata": {
        "colab": {
          "base_uri": "https://localhost:8080/",
          "height": 423
        },
        "id": "m4MNqiC1Lkes",
        "outputId": "e008ee71-108c-4a56-9824-9b05cfbc8227"
      },
      "source": [
        "df_modelo = df_dummy.copy()\r\n",
        "\r\n",
        "df_modelo"
      ],
      "execution_count": 76,
      "outputs": [
        {
          "output_type": "execute_result",
          "data": {
            "text/html": [
              "<div>\n",
              "<style scoped>\n",
              "    .dataframe tbody tr th:only-of-type {\n",
              "        vertical-align: middle;\n",
              "    }\n",
              "\n",
              "    .dataframe tbody tr th {\n",
              "        vertical-align: top;\n",
              "    }\n",
              "\n",
              "    .dataframe thead th {\n",
              "        text-align: right;\n",
              "    }\n",
              "</style>\n",
              "<table border=\"1\" class=\"dataframe\">\n",
              "  <thead>\n",
              "    <tr style=\"text-align: right;\">\n",
              "      <th></th>\n",
              "      <th>Edad</th>\n",
              "      <th>Card Mastercard_VERDADERO</th>\n",
              "      <th>Profesion_agrupacion_Dueña de casa</th>\n",
              "      <th>Profesion_agrupacion_Estudiante</th>\n",
              "      <th>Profesion_agrupacion_Trabajo informado</th>\n",
              "      <th>Region Pais_Santiago</th>\n",
              "    </tr>\n",
              "  </thead>\n",
              "  <tbody>\n",
              "    <tr>\n",
              "      <th>0</th>\n",
              "      <td>26</td>\n",
              "      <td>0</td>\n",
              "      <td>0</td>\n",
              "      <td>0</td>\n",
              "      <td>1</td>\n",
              "      <td>0</td>\n",
              "    </tr>\n",
              "    <tr>\n",
              "      <th>1</th>\n",
              "      <td>18</td>\n",
              "      <td>1</td>\n",
              "      <td>0</td>\n",
              "      <td>1</td>\n",
              "      <td>0</td>\n",
              "      <td>1</td>\n",
              "    </tr>\n",
              "    <tr>\n",
              "      <th>2</th>\n",
              "      <td>30</td>\n",
              "      <td>0</td>\n",
              "      <td>0</td>\n",
              "      <td>0</td>\n",
              "      <td>0</td>\n",
              "      <td>1</td>\n",
              "    </tr>\n",
              "    <tr>\n",
              "      <th>3</th>\n",
              "      <td>25</td>\n",
              "      <td>0</td>\n",
              "      <td>0</td>\n",
              "      <td>1</td>\n",
              "      <td>0</td>\n",
              "      <td>0</td>\n",
              "    </tr>\n",
              "    <tr>\n",
              "      <th>4</th>\n",
              "      <td>57</td>\n",
              "      <td>0</td>\n",
              "      <td>0</td>\n",
              "      <td>0</td>\n",
              "      <td>1</td>\n",
              "      <td>0</td>\n",
              "    </tr>\n",
              "    <tr>\n",
              "      <th>...</th>\n",
              "      <td>...</td>\n",
              "      <td>...</td>\n",
              "      <td>...</td>\n",
              "      <td>...</td>\n",
              "      <td>...</td>\n",
              "      <td>...</td>\n",
              "    </tr>\n",
              "    <tr>\n",
              "      <th>28846</th>\n",
              "      <td>27</td>\n",
              "      <td>1</td>\n",
              "      <td>0</td>\n",
              "      <td>0</td>\n",
              "      <td>1</td>\n",
              "      <td>1</td>\n",
              "    </tr>\n",
              "    <tr>\n",
              "      <th>28851</th>\n",
              "      <td>29</td>\n",
              "      <td>1</td>\n",
              "      <td>0</td>\n",
              "      <td>0</td>\n",
              "      <td>1</td>\n",
              "      <td>1</td>\n",
              "    </tr>\n",
              "    <tr>\n",
              "      <th>28855</th>\n",
              "      <td>28</td>\n",
              "      <td>1</td>\n",
              "      <td>0</td>\n",
              "      <td>0</td>\n",
              "      <td>1</td>\n",
              "      <td>1</td>\n",
              "    </tr>\n",
              "    <tr>\n",
              "      <th>28858</th>\n",
              "      <td>36</td>\n",
              "      <td>0</td>\n",
              "      <td>0</td>\n",
              "      <td>0</td>\n",
              "      <td>1</td>\n",
              "      <td>1</td>\n",
              "    </tr>\n",
              "    <tr>\n",
              "      <th>28879</th>\n",
              "      <td>29</td>\n",
              "      <td>1</td>\n",
              "      <td>0</td>\n",
              "      <td>0</td>\n",
              "      <td>1</td>\n",
              "      <td>1</td>\n",
              "    </tr>\n",
              "  </tbody>\n",
              "</table>\n",
              "<p>28484 rows × 6 columns</p>\n",
              "</div>"
            ],
            "text/plain": [
              "       Edad  ...  Region Pais_Santiago\n",
              "0        26  ...                     0\n",
              "1        18  ...                     1\n",
              "2        30  ...                     1\n",
              "3        25  ...                     0\n",
              "4        57  ...                     0\n",
              "...     ...  ...                   ...\n",
              "28846    27  ...                     1\n",
              "28851    29  ...                     1\n",
              "28855    28  ...                     1\n",
              "28858    36  ...                     1\n",
              "28879    29  ...                     1\n",
              "\n",
              "[28484 rows x 6 columns]"
            ]
          },
          "metadata": {
            "tags": []
          },
          "execution_count": 76
        }
      ]
    },
    {
      "cell_type": "code",
      "metadata": {
        "colab": {
          "base_uri": "https://localhost:8080/",
          "height": 312
        },
        "id": "JTP2N98FLlqB",
        "outputId": "2aa6e776-572f-43a9-fbb9-4cba29fd83d0"
      },
      "source": [
        "#Curva Eblow\r\n",
        "\r\n",
        "sum_of_squared_distances = []\r\n",
        "K = range(1,20)\r\n",
        "for k in K:\r\n",
        "    k_means = KMeans(n_clusters=k)\r\n",
        "    model = k_means.fit(df_modelo)\r\n",
        "    sum_of_squared_distances.append(k_means.inertia_)\r\n",
        "\r\n",
        "plt.plot(K, sum_of_squared_distances, 'bx-')\r\n",
        "plt.xlabel('Cantidad de Grupos (K)')\r\n",
        "plt.ylabel('Suma del Error cuadrado')\r\n",
        "plt.title('Curva Elbow para la optimizacion de los K')\r\n",
        "plt.show()\r\n",
        "sns.despine(left=True, bottom=True)"
      ],
      "execution_count": 67,
      "outputs": [
        {
          "output_type": "display_data",
          "data": {
            "image/png": "[encoded data removed]",
            "text/plain": [
              "<Figure size 432x288 with 1 Axes>"
            ]
          },
          "metadata": {
            "tags": [],
            "needs_background": "light"
          }
        },
        {
          "output_type": "display_data",
          "data": {
            "text/plain": [
              "<Figure size 432x288 with 0 Axes>"
            ]
          },
          "metadata": {
            "tags": []
          }
        }
      ]
    },
    {
      "cell_type": "markdown",
      "metadata": {
        "id": "13qh5ar5M4x1"
      },
      "source": [
        "# Optimo y Visualizacion"
      ]
    },
    {
      "cell_type": "code",
      "metadata": {
        "colab": {
          "base_uri": "https://localhost:8080/",
          "height": 350
        },
        "id": "9e_4-utHM-ec",
        "outputId": "e60af7c6-e3fd-49c5-93a4-daa318d7cef7"
      },
      "source": [
        "k_means_optimo = KMeans(n_clusters=5,random_state = 11324)\r\n",
        "model = k_means_optimo.fit(df_modelo)\r\n",
        "y_hat_optimo = k_means_optimo.predict(df_modelo)\r\n",
        "labels_optimo = k_means_optimo.labels_\r\n",
        "\r\n",
        "#sns.set(color = 'w')\r\n",
        "sns.countplot(labels_optimo, color = 'b'  )\r\n",
        "plt.title('Distribucion de Datos por Grupo')\r\n",
        "plt.xlabel('Grupos')\r\n",
        "plt.ylabel('Cantidad')\r\n",
        "sns.despine(left=True, bottom=True)"
      ],
      "execution_count": 79,
      "outputs": [
        {
          "output_type": "stream",
          "text": [
            "/usr/local/lib/python3.6/dist-packages/seaborn/_decorators.py:43: FutureWarning: Pass the following variable as a keyword arg: x. From version 0.12, the only valid positional argument will be `data`, and passing other arguments without an explicit keyword will result in an error or misinterpretation.\n",
            "  FutureWarning\n"
          ],
          "name": "stderr"
        },
        {
          "output_type": "display_data",
          "data": {
            "image/png": "[encoded data removed]",
            "text/plain": [
              "<Figure size 432x288 with 1 Axes>"
            ]
          },
          "metadata": {
            "tags": [],
            "needs_background": "light"
          }
        }
      ]
    },
    {
      "cell_type": "code",
      "metadata": {
        "id": "rwSvC0CXASNf"
      },
      "source": [
        "df = df.drop(columns='Categoria')"
      ],
      "execution_count": 83,
      "outputs": []
    },
    {
      "cell_type": "code",
      "metadata": {
        "colab": {
          "base_uri": "https://localhost:8080/",
          "height": 197
        },
        "id": "6faYO8yvNJiv",
        "outputId": "df98b3f2-4b1b-4e4d-cf5d-7b590e8d988f"
      },
      "source": [
        "results = pd.DataFrame(labels_optimo ,columns =['Categoria'])\r\n",
        "df = df.reset_index()\r\n",
        "df = df.drop(columns='index')\r\n",
        "df = pd.concat([df, results], axis=1)\r\n",
        "df.head()"
      ],
      "execution_count": 84,
      "outputs": [
        {
          "output_type": "execute_result",
          "data": {
            "text/html": [
              "<div>\n",
              "<style scoped>\n",
              "    .dataframe tbody tr th:only-of-type {\n",
              "        vertical-align: middle;\n",
              "    }\n",
              "\n",
              "    .dataframe tbody tr th {\n",
              "        vertical-align: top;\n",
              "    }\n",
              "\n",
              "    .dataframe thead th {\n",
              "        text-align: right;\n",
              "    }\n",
              "</style>\n",
              "<table border=\"1\" class=\"dataframe\">\n",
              "  <thead>\n",
              "    <tr style=\"text-align: right;\">\n",
              "      <th></th>\n",
              "      <th>Card Mastercard</th>\n",
              "      <th>Edad</th>\n",
              "      <th>Region Pais</th>\n",
              "      <th>Profesion_agrupacion</th>\n",
              "      <th>Categoria</th>\n",
              "    </tr>\n",
              "  </thead>\n",
              "  <tbody>\n",
              "    <tr>\n",
              "      <th>0</th>\n",
              "      <td>FALSO</td>\n",
              "      <td>26</td>\n",
              "      <td>No Santiago</td>\n",
              "      <td>Trabajo informado</td>\n",
              "      <td>4</td>\n",
              "    </tr>\n",
              "    <tr>\n",
              "      <th>1</th>\n",
              "      <td>VERDADERO</td>\n",
              "      <td>18</td>\n",
              "      <td>Santiago</td>\n",
              "      <td>Estudiante</td>\n",
              "      <td>1</td>\n",
              "    </tr>\n",
              "    <tr>\n",
              "      <th>2</th>\n",
              "      <td>FALSO</td>\n",
              "      <td>30</td>\n",
              "      <td>Santiago</td>\n",
              "      <td>Desempleado/a</td>\n",
              "      <td>4</td>\n",
              "    </tr>\n",
              "    <tr>\n",
              "      <th>3</th>\n",
              "      <td>FALSO</td>\n",
              "      <td>25</td>\n",
              "      <td>No Santiago</td>\n",
              "      <td>Estudiante</td>\n",
              "      <td>4</td>\n",
              "    </tr>\n",
              "    <tr>\n",
              "      <th>4</th>\n",
              "      <td>FALSO</td>\n",
              "      <td>57</td>\n",
              "      <td>No Santiago</td>\n",
              "      <td>Trabajo informado</td>\n",
              "      <td>2</td>\n",
              "    </tr>\n",
              "  </tbody>\n",
              "</table>\n",
              "</div>"
            ],
            "text/plain": [
              "  Card Mastercard  Edad  Region Pais Profesion_agrupacion  Categoria\n",
              "0           FALSO    26  No Santiago    Trabajo informado          4\n",
              "1       VERDADERO    18     Santiago           Estudiante          1\n",
              "2           FALSO    30     Santiago        Desempleado/a          4\n",
              "3           FALSO    25  No Santiago           Estudiante          4\n",
              "4           FALSO    57  No Santiago    Trabajo informado          2"
            ]
          },
          "metadata": {
            "tags": []
          },
          "execution_count": 84
        }
      ]
    },
    {
      "cell_type": "code",
      "metadata": {
        "colab": {
          "base_uri": "https://localhost:8080/",
          "height": 296
        },
        "id": "AYJDoyAZNPMq",
        "outputId": "5eff295e-126c-4b96-fa73-3783fc8b6ada"
      },
      "source": [
        "sns.boxplot( data = df, y = 'Edad', x = 'Categoria')\r\n",
        "plt.title('Distribuciones de Edad por Grupo ', fontsize = 16)\r\n",
        "plt.xlabel('Grupo')\r\n",
        "plt.ylabel('Edades')\r\n",
        "sns.despine(left=True, bottom=True)"
      ],
      "execution_count": 85,
      "outputs": [
        {
          "output_type": "display_data",
          "data": {
            "image/png": "[encoded data removed]",
            "text/plain": [
              "<Figure size 432x288 with 1 Axes>"
            ]
          },
          "metadata": {
            "tags": [],
            "needs_background": "light"
          }
        }
      ]
    },
    {
      "cell_type": "code",
      "metadata": {
        "colab": {
          "base_uri": "https://localhost:8080/",
          "height": 296
        },
        "id": "T2jVSSdrNW2C",
        "outputId": "c3e28eac-474a-4f44-f9e8-44abcd9922ff"
      },
      "source": [
        "\r\n",
        "categoria = df.groupby(['Categoria','Profesion_agrupacion']).count()['Card Mastercard'].reset_index()\r\n",
        "\r\n",
        "plt.figure(figsize = (8,4))\r\n",
        "sns.barplot( data = categoria, hue = 'Categoria', y = 'Card Mastercard', x = 'Profesion_agrupacion')\r\n",
        "\r\n",
        "plt.title('Cantidad de clientes por tipo de Profesion', fontsize = 16)\r\n",
        "plt.xlabel('Grupo')\r\n",
        "plt.ylabel('Cantidad')\r\n",
        "sns.despine(left=True, bottom=True)\r\n"
      ],
      "execution_count": 89,
      "outputs": [
        {
          "output_type": "display_data",
          "data": {
            "image/png": "[encoded data removed]",
            "text/plain": [
              "<Figure size 576x288 with 1 Axes>"
            ]
          },
          "metadata": {
            "tags": [],
            "needs_background": "light"
          }
        }
      ]
    },
    {
      "cell_type": "code",
      "metadata": {
        "colab": {
          "base_uri": "https://localhost:8080/",
          "height": 296
        },
        "id": "oO3e9Cd5P2kc",
        "outputId": "dd071731-2d82-4111-f3de-f23ca5573765"
      },
      "source": [
        "master = df.groupby(['Card Mastercard','Categoria']).count()['Profesion_agrupacion'].reset_index()\r\n",
        "\r\n",
        "sns.barplot( data = master, x = 'Card Mastercard', hue = 'Categoria', y = 'Profesion_agrupacion')\r\n",
        "\r\n",
        "plt.title('Cantidad de clientes por MasterCard', fontsize = 16)\r\n",
        "plt.xlabel('Grupo')\r\n",
        "plt.ylabel('Cantidad')\r\n",
        "sns.despine(left=True, bottom=True)"
      ],
      "execution_count": 87,
      "outputs": [
        {
          "output_type": "display_data",
          "data": {
            "image/png": "[encoded data removed]",
            "text/plain": [
              "<Figure size 432x288 with 1 Axes>"
            ]
          },
          "metadata": {
            "tags": [],
            "needs_background": "light"
          }
        }
      ]
    },
    {
      "cell_type": "markdown",
      "metadata": {
        "id": "UopAI9HRQ8sQ"
      },
      "source": [
        "# Serializar el modelo"
      ]
    },
    {
      "cell_type": "code",
      "metadata": {
        "colab": {
          "base_uri": "https://localhost:8080/"
        },
        "id": "j4PNchWOQ_LO",
        "outputId": "410edff7-dc63-44eb-ec2d-97aa0aa70162"
      },
      "source": [
        "import joblib\r\n",
        "joblib.dump(model, 'modelo_clustering.pkl')\r\n",
        "\r\n",
        "modelo_columnas = list(df_modelo.columns)\r\n",
        "\r\n",
        "joblib.dump(modelo_columnas, 'modelo_columns_clustering.pkl')"
      ],
      "execution_count": 42,
      "outputs": [
        {
          "output_type": "execute_result",
          "data": {
            "text/plain": [
              "['modelo_columns_clustering.pkl']"
            ]
          },
          "metadata": {
            "tags": []
          },
          "execution_count": 42
        }
      ]
    },
    {
      "cell_type": "code",
      "metadata": {
        "id": "HMsQc3UBWf3n",
        "outputId": "b3f05386-4581-4084-f358-17be2eb4ab0d",
        "colab": {
          "base_uri": "https://localhost:8080/"
        }
      },
      "source": [
        "model.predict([[60,0,1,0,0,1]])"
      ],
      "execution_count": 54,
      "outputs": [
        {
          "output_type": "execute_result",
          "data": {
            "text/plain": [
              "array([1], dtype=int32)"
            ]
          },
          "metadata": {
            "tags": []
          },
          "execution_count": 54
        }
      ]
    },
    {
      "cell_type": "code",
      "metadata": {
        "id": "iDKQ_Nm4Xymr",
        "outputId": "9d42ec0d-658e-4967-f5fb-8ac4a98d0e8e",
        "colab": {
          "base_uri": "https://localhost:8080/"
        }
      },
      "source": [
        "df_modelo.columns"
      ],
      "execution_count": 53,
      "outputs": [
        {
          "output_type": "execute_result",
          "data": {
            "text/plain": [
              "Index(['Edad', 'Card Mastercard_VERDADERO',\n",
              "       'Profesion_agrupacion_Dueña de casa', 'Profesion_agrupacion_Estudiante',\n",
              "       'Profesion_agrupacion_Trabajo informado', 'Region Pais_Santiago'],\n",
              "      dtype='object')"
            ]
          },
          "metadata": {
            "tags": []
          },
          "execution_count": 53
        }
      ]
    }
  ]
}